{
 "cells": [
  {
   "cell_type": "markdown",
   "id": "252bdf44",
   "metadata": {
    "id": "6lXtbfZNffxp",
    "papermill": {
     "duration": 0.041185,
     "end_time": "2021-07-27T18:45:50.958507",
     "exception": false,
     "start_time": "2021-07-27T18:45:50.917322",
     "status": "completed"
    },
    "tags": []
   },
   "source": [
    "### Part 1. Data preparation and visualization\n",
    "* 1.1. Read the dataset\n",
    "* 1.2. Delete all the rows containing the missing data. Imputation is not necessary.\n",
    "* 1.3. Encode the data where necessary.\n",
    "* 1.4. Visualize the columns and their pairs.\n",
    "* 1.5. Produce the correlation matrix to make a first guess on usefulness of the predictors."
   ]
  },
  {
   "cell_type": "code",
   "execution_count": 1,
   "id": "3fcf2e62",
   "metadata": {
    "execution": {
     "iopub.execute_input": "2021-07-27T18:45:51.042864Z",
     "iopub.status.busy": "2021-07-27T18:45:51.041647Z",
     "iopub.status.idle": "2021-07-27T18:45:52.378937Z",
     "shell.execute_reply": "2021-07-27T18:45:52.378241Z",
     "shell.execute_reply.started": "2021-07-27T18:40:59.159993Z"
    },
    "executionInfo": {
     "elapsed": 375,
     "status": "ok",
     "timestamp": 1626008907470,
     "user": {
      "displayName": "Atieno Otonglo",
      "photoUrl": "https://lh3.googleusercontent.com/a-/AOh14Ggc-rVDrwjl1vxvV3eclt4i-OGgGajJg7-jhbwF9w=s64",
      "userId": "16481023189709521431"
     },
     "user_tz": -180
    },
    "id": "UYCA1H_4M4Tp",
    "outputId": "61ecd4da-0ee2-416f-9f51-8398bf65a675",
    "papermill": {
     "duration": 1.381114,
     "end_time": "2021-07-27T18:45:52.379100",
     "exception": false,
     "start_time": "2021-07-27T18:45:50.997986",
     "status": "completed"
    },
    "tags": []
   },
   "outputs": [
    {
     "data": {
      "text/html": [
       "<div>\n",
       "<style scoped>\n",
       "    .dataframe tbody tr th:only-of-type {\n",
       "        vertical-align: middle;\n",
       "    }\n",
       "\n",
       "    .dataframe tbody tr th {\n",
       "        vertical-align: top;\n",
       "    }\n",
       "\n",
       "    .dataframe thead th {\n",
       "        text-align: right;\n",
       "    }\n",
       "</style>\n",
       "<table border=\"1\" class=\"dataframe\">\n",
       "  <thead>\n",
       "    <tr style=\"text-align: right;\">\n",
       "      <th></th>\n",
       "      <th>Identifier</th>\n",
       "      <th>sex</th>\n",
       "      <th>age</th>\n",
       "      <th>income</th>\n",
       "      <th>purchase</th>\n",
       "    </tr>\n",
       "  </thead>\n",
       "  <tbody>\n",
       "    <tr>\n",
       "      <th>0</th>\n",
       "      <td>15624510</td>\n",
       "      <td>Male</td>\n",
       "      <td>19.0</td>\n",
       "      <td>19000.0</td>\n",
       "      <td>0.0</td>\n",
       "    </tr>\n",
       "    <tr>\n",
       "      <th>1</th>\n",
       "      <td>15810944</td>\n",
       "      <td>Male</td>\n",
       "      <td>35.0</td>\n",
       "      <td>20000.0</td>\n",
       "      <td>0.0</td>\n",
       "    </tr>\n",
       "    <tr>\n",
       "      <th>2</th>\n",
       "      <td>15668575</td>\n",
       "      <td>Female</td>\n",
       "      <td>26.0</td>\n",
       "      <td>43000.0</td>\n",
       "      <td>0.0</td>\n",
       "    </tr>\n",
       "    <tr>\n",
       "      <th>3</th>\n",
       "      <td>15603246</td>\n",
       "      <td>Female</td>\n",
       "      <td>27.0</td>\n",
       "      <td>57000.0</td>\n",
       "      <td>0.0</td>\n",
       "    </tr>\n",
       "    <tr>\n",
       "      <th>4</th>\n",
       "      <td>15804002</td>\n",
       "      <td>Male</td>\n",
       "      <td>19.0</td>\n",
       "      <td>76000.0</td>\n",
       "      <td>0.0</td>\n",
       "    </tr>\n",
       "    <tr>\n",
       "      <th>5</th>\n",
       "      <td>15728773</td>\n",
       "      <td>Male</td>\n",
       "      <td>27.0</td>\n",
       "      <td>58000.0</td>\n",
       "      <td>0.0</td>\n",
       "    </tr>\n",
       "    <tr>\n",
       "      <th>6</th>\n",
       "      <td>15598044</td>\n",
       "      <td>Female</td>\n",
       "      <td>27.0</td>\n",
       "      <td>84000.0</td>\n",
       "      <td>0.0</td>\n",
       "    </tr>\n",
       "    <tr>\n",
       "      <th>7</th>\n",
       "      <td>15694829</td>\n",
       "      <td>Female</td>\n",
       "      <td>32.0</td>\n",
       "      <td>150000.0</td>\n",
       "      <td>1.0</td>\n",
       "    </tr>\n",
       "    <tr>\n",
       "      <th>8</th>\n",
       "      <td>15600575</td>\n",
       "      <td>Male</td>\n",
       "      <td>25.0</td>\n",
       "      <td>33000.0</td>\n",
       "      <td>0.0</td>\n",
       "    </tr>\n",
       "    <tr>\n",
       "      <th>9</th>\n",
       "      <td>15727311</td>\n",
       "      <td>Female</td>\n",
       "      <td>35.0</td>\n",
       "      <td>65000.0</td>\n",
       "      <td>0.0</td>\n",
       "    </tr>\n",
       "  </tbody>\n",
       "</table>\n",
       "</div>"
      ],
      "text/plain": [
       "   Identifier     sex   age    income  purchase\n",
       "0    15624510    Male  19.0   19000.0       0.0\n",
       "1    15810944    Male  35.0   20000.0       0.0\n",
       "2    15668575  Female  26.0   43000.0       0.0\n",
       "3    15603246  Female  27.0   57000.0       0.0\n",
       "4    15804002    Male  19.0   76000.0       0.0\n",
       "5    15728773    Male  27.0   58000.0       0.0\n",
       "6    15598044  Female  27.0   84000.0       0.0\n",
       "7    15694829  Female  32.0  150000.0       1.0\n",
       "8    15600575    Male  25.0   33000.0       0.0\n",
       "9    15727311  Female  35.0   65000.0       0.0"
      ]
     },
     "execution_count": 1,
     "metadata": {},
     "output_type": "execute_result"
    }
   ],
   "source": [
    "import pandas as pd\n",
    "import numpy as np\n",
    "import seaborn as sns\n",
    "import matplotlib.pyplot as plt\n",
    "%matplotlib inline\n",
    "import math\n",
    "from sklearn.metrics import classification_report\n",
    "from sklearn.model_selection import train_test_split\n",
    "import statsmodels.api as sm\n",
    "from sklearn.metrics import accuracy_score, confusion_matrix\n",
    "import warnings\n",
    "warnings.filterwarnings(\"ignore\")\n",
    "\n",
    "### 1.1. Read the dataset\n",
    "\n",
    "assignment_data = pd.read_csv(\"../input/assignment-business-apps/dataset_assignment.csv\")\n",
    "assignment_data.head(10)"
   ]
  },
  {
   "cell_type": "code",
   "execution_count": 2,
   "id": "def3f8d7",
   "metadata": {
    "execution": {
     "iopub.execute_input": "2021-07-27T18:45:52.467569Z",
     "iopub.status.busy": "2021-07-27T18:45:52.466885Z",
     "iopub.status.idle": "2021-07-27T18:45:52.470770Z",
     "shell.execute_reply": "2021-07-27T18:45:52.471302Z",
     "shell.execute_reply.started": "2021-07-27T18:40:59.191786Z"
    },
    "executionInfo": {
     "elapsed": 523,
     "status": "ok",
     "timestamp": 1625955677457,
     "user": {
      "displayName": "Atieno Otonglo",
      "photoUrl": "https://lh3.googleusercontent.com/a-/AOh14Ggc-rVDrwjl1vxvV3eclt4i-OGgGajJg7-jhbwF9w=s64",
      "userId": "16481023189709521431"
     },
     "user_tz": -180
    },
    "id": "jYyqSTZDeJTP",
    "outputId": "861ed991-3ea7-4c3d-f7c9-38f8132c29e0",
    "papermill": {
     "duration": 0.050736,
     "end_time": "2021-07-27T18:45:52.471477",
     "exception": false,
     "start_time": "2021-07-27T18:45:52.420741",
     "status": "completed"
    },
    "tags": []
   },
   "outputs": [
    {
     "name": "stdout",
     "output_type": "stream",
     "text": [
      "No. of customers in original data:502\n"
     ]
    }
   ],
   "source": [
    "### 1.2. Delete all the rows containing the missing data. Imputation is not necessary.\n",
    "\n",
    "print(\"No. of customers in original data:\" +str(len(assignment_data.Identifier)))"
   ]
  },
  {
   "cell_type": "code",
   "execution_count": 3,
   "id": "87bfb7af",
   "metadata": {
    "execution": {
     "iopub.execute_input": "2021-07-27T18:45:52.554742Z",
     "iopub.status.busy": "2021-07-27T18:45:52.554081Z",
     "iopub.status.idle": "2021-07-27T18:45:52.574646Z",
     "shell.execute_reply": "2021-07-27T18:45:52.573862Z",
     "shell.execute_reply.started": "2021-07-27T18:40:59.199548Z"
    },
    "executionInfo": {
     "elapsed": 587,
     "status": "ok",
     "timestamp": 1625955749568,
     "user": {
      "displayName": "Atieno Otonglo",
      "photoUrl": "https://lh3.googleusercontent.com/a-/AOh14Ggc-rVDrwjl1vxvV3eclt4i-OGgGajJg7-jhbwF9w=s64",
      "userId": "16481023189709521431"
     },
     "user_tz": -180
    },
    "id": "Bzjs5Utcg8EW",
    "outputId": "c126a755-61af-461f-c004-301f726e73d0",
    "papermill": {
     "duration": 0.063162,
     "end_time": "2021-07-27T18:45:52.574830",
     "exception": false,
     "start_time": "2021-07-27T18:45:52.511668",
     "status": "completed"
    },
    "tags": []
   },
   "outputs": [
    {
     "name": "stdout",
     "output_type": "stream",
     "text": [
      "<class 'pandas.core.frame.DataFrame'>\n",
      "RangeIndex: 502 entries, 0 to 501\n",
      "Data columns (total 5 columns):\n",
      " #   Column      Non-Null Count  Dtype  \n",
      "---  ------      --------------  -----  \n",
      " 0   Identifier  502 non-null    int64  \n",
      " 1   sex         502 non-null    object \n",
      " 2   age         481 non-null    float64\n",
      " 3   income      476 non-null    float64\n",
      " 4   purchase    482 non-null    float64\n",
      "dtypes: float64(3), int64(1), object(1)\n",
      "memory usage: 19.7+ KB\n"
     ]
    }
   ],
   "source": [
    "assignment_data.info()"
   ]
  },
  {
   "cell_type": "code",
   "execution_count": 4,
   "id": "a1b0661e",
   "metadata": {
    "execution": {
     "iopub.execute_input": "2021-07-27T18:45:52.672592Z",
     "iopub.status.busy": "2021-07-27T18:45:52.671826Z",
     "iopub.status.idle": "2021-07-27T18:45:52.676907Z",
     "shell.execute_reply": "2021-07-27T18:45:52.676352Z",
     "shell.execute_reply.started": "2021-07-27T18:40:59.244943Z"
    },
    "executionInfo": {
     "elapsed": 533,
     "status": "ok",
     "timestamp": 1625955839726,
     "user": {
      "displayName": "Atieno Otonglo",
      "photoUrl": "https://lh3.googleusercontent.com/a-/AOh14Ggc-rVDrwjl1vxvV3eclt4i-OGgGajJg7-jhbwF9w=s64",
      "userId": "16481023189709521431"
     },
     "user_tz": -180
    },
    "id": "ey9Y_yokhPhG",
    "outputId": "1938e8c0-687b-4789-9f77-97672abbbecd",
    "papermill": {
     "duration": 0.061924,
     "end_time": "2021-07-27T18:45:52.677061",
     "exception": false,
     "start_time": "2021-07-27T18:45:52.615137",
     "status": "completed"
    },
    "tags": []
   },
   "outputs": [
    {
     "data": {
      "text/html": [
       "<div>\n",
       "<style scoped>\n",
       "    .dataframe tbody tr th:only-of-type {\n",
       "        vertical-align: middle;\n",
       "    }\n",
       "\n",
       "    .dataframe tbody tr th {\n",
       "        vertical-align: top;\n",
       "    }\n",
       "\n",
       "    .dataframe thead th {\n",
       "        text-align: right;\n",
       "    }\n",
       "</style>\n",
       "<table border=\"1\" class=\"dataframe\">\n",
       "  <thead>\n",
       "    <tr style=\"text-align: right;\">\n",
       "      <th></th>\n",
       "      <th>Identifier</th>\n",
       "      <th>sex</th>\n",
       "      <th>age</th>\n",
       "      <th>income</th>\n",
       "      <th>purchase</th>\n",
       "    </tr>\n",
       "  </thead>\n",
       "  <tbody>\n",
       "    <tr>\n",
       "      <th>0</th>\n",
       "      <td>False</td>\n",
       "      <td>False</td>\n",
       "      <td>False</td>\n",
       "      <td>False</td>\n",
       "      <td>False</td>\n",
       "    </tr>\n",
       "    <tr>\n",
       "      <th>1</th>\n",
       "      <td>False</td>\n",
       "      <td>False</td>\n",
       "      <td>False</td>\n",
       "      <td>False</td>\n",
       "      <td>False</td>\n",
       "    </tr>\n",
       "    <tr>\n",
       "      <th>2</th>\n",
       "      <td>False</td>\n",
       "      <td>False</td>\n",
       "      <td>False</td>\n",
       "      <td>False</td>\n",
       "      <td>False</td>\n",
       "    </tr>\n",
       "    <tr>\n",
       "      <th>3</th>\n",
       "      <td>False</td>\n",
       "      <td>False</td>\n",
       "      <td>False</td>\n",
       "      <td>False</td>\n",
       "      <td>False</td>\n",
       "    </tr>\n",
       "    <tr>\n",
       "      <th>4</th>\n",
       "      <td>False</td>\n",
       "      <td>False</td>\n",
       "      <td>False</td>\n",
       "      <td>False</td>\n",
       "      <td>False</td>\n",
       "    </tr>\n",
       "    <tr>\n",
       "      <th>...</th>\n",
       "      <td>...</td>\n",
       "      <td>...</td>\n",
       "      <td>...</td>\n",
       "      <td>...</td>\n",
       "      <td>...</td>\n",
       "    </tr>\n",
       "    <tr>\n",
       "      <th>497</th>\n",
       "      <td>False</td>\n",
       "      <td>False</td>\n",
       "      <td>False</td>\n",
       "      <td>False</td>\n",
       "      <td>True</td>\n",
       "    </tr>\n",
       "    <tr>\n",
       "      <th>498</th>\n",
       "      <td>False</td>\n",
       "      <td>False</td>\n",
       "      <td>False</td>\n",
       "      <td>False</td>\n",
       "      <td>True</td>\n",
       "    </tr>\n",
       "    <tr>\n",
       "      <th>499</th>\n",
       "      <td>False</td>\n",
       "      <td>False</td>\n",
       "      <td>False</td>\n",
       "      <td>False</td>\n",
       "      <td>True</td>\n",
       "    </tr>\n",
       "    <tr>\n",
       "      <th>500</th>\n",
       "      <td>False</td>\n",
       "      <td>False</td>\n",
       "      <td>False</td>\n",
       "      <td>False</td>\n",
       "      <td>True</td>\n",
       "    </tr>\n",
       "    <tr>\n",
       "      <th>501</th>\n",
       "      <td>False</td>\n",
       "      <td>False</td>\n",
       "      <td>False</td>\n",
       "      <td>False</td>\n",
       "      <td>True</td>\n",
       "    </tr>\n",
       "  </tbody>\n",
       "</table>\n",
       "<p>502 rows × 5 columns</p>\n",
       "</div>"
      ],
      "text/plain": [
       "     Identifier    sex    age  income  purchase\n",
       "0         False  False  False   False     False\n",
       "1         False  False  False   False     False\n",
       "2         False  False  False   False     False\n",
       "3         False  False  False   False     False\n",
       "4         False  False  False   False     False\n",
       "..          ...    ...    ...     ...       ...\n",
       "497       False  False  False   False      True\n",
       "498       False  False  False   False      True\n",
       "499       False  False  False   False      True\n",
       "500       False  False  False   False      True\n",
       "501       False  False  False   False      True\n",
       "\n",
       "[502 rows x 5 columns]"
      ]
     },
     "execution_count": 4,
     "metadata": {},
     "output_type": "execute_result"
    }
   ],
   "source": [
    "assignment_data.isnull()"
   ]
  },
  {
   "cell_type": "code",
   "execution_count": 5,
   "id": "1ea89348",
   "metadata": {
    "execution": {
     "iopub.execute_input": "2021-07-27T18:45:52.762600Z",
     "iopub.status.busy": "2021-07-27T18:45:52.761916Z",
     "iopub.status.idle": "2021-07-27T18:45:52.769885Z",
     "shell.execute_reply": "2021-07-27T18:45:52.770489Z",
     "shell.execute_reply.started": "2021-07-27T18:40:59.268139Z"
    },
    "executionInfo": {
     "elapsed": 492,
     "status": "ok",
     "timestamp": 1625956297280,
     "user": {
      "displayName": "Atieno Otonglo",
      "photoUrl": "https://lh3.googleusercontent.com/a-/AOh14Ggc-rVDrwjl1vxvV3eclt4i-OGgGajJg7-jhbwF9w=s64",
      "userId": "16481023189709521431"
     },
     "user_tz": -180
    },
    "id": "X1PiGrr2hh7B",
    "outputId": "cbdd4fd7-c81c-4ae9-818f-a0f7b5f93a44",
    "papermill": {
     "duration": 0.052263,
     "end_time": "2021-07-27T18:45:52.770672",
     "exception": false,
     "start_time": "2021-07-27T18:45:52.718409",
     "status": "completed"
    },
    "tags": []
   },
   "outputs": [
    {
     "data": {
      "text/plain": [
       "Identifier     0\n",
       "sex            0\n",
       "age           21\n",
       "income        26\n",
       "purchase      20\n",
       "dtype: int64"
      ]
     },
     "execution_count": 5,
     "metadata": {},
     "output_type": "execute_result"
    }
   ],
   "source": [
    "assignment_data.isnull().sum()"
   ]
  },
  {
   "cell_type": "code",
   "execution_count": 6,
   "id": "deb5288b",
   "metadata": {
    "execution": {
     "iopub.execute_input": "2021-07-27T18:45:52.858044Z",
     "iopub.status.busy": "2021-07-27T18:45:52.857373Z",
     "iopub.status.idle": "2021-07-27T18:45:52.887561Z",
     "shell.execute_reply": "2021-07-27T18:45:52.888065Z",
     "shell.execute_reply.started": "2021-07-27T18:40:59.283237Z"
    },
    "executionInfo": {
     "elapsed": 474,
     "status": "ok",
     "timestamp": 1625956380087,
     "user": {
      "displayName": "Atieno Otonglo",
      "photoUrl": "https://lh3.googleusercontent.com/a-/AOh14Ggc-rVDrwjl1vxvV3eclt4i-OGgGajJg7-jhbwF9w=s64",
      "userId": "16481023189709521431"
     },
     "user_tz": -180
    },
    "id": "UjPY6O0XjDZG",
    "papermill": {
     "duration": 0.076043,
     "end_time": "2021-07-27T18:45:52.888293",
     "exception": false,
     "start_time": "2021-07-27T18:45:52.812250",
     "status": "completed"
    },
    "tags": []
   },
   "outputs": [
    {
     "name": "stdout",
     "output_type": "stream",
     "text": [
      "Length of dataset after dropping rows with missing data: 438\n"
     ]
    }
   ],
   "source": [
    "assignment_data.dropna(inplace= True)\n",
    "print('Length of dataset after dropping rows with missing data:',len(assignment_data))"
   ]
  },
  {
   "cell_type": "code",
   "execution_count": 7,
   "id": "37c216f9",
   "metadata": {
    "execution": {
     "iopub.execute_input": "2021-07-27T18:45:52.981837Z",
     "iopub.status.busy": "2021-07-27T18:45:52.980949Z",
     "iopub.status.idle": "2021-07-27T18:45:52.984809Z",
     "shell.execute_reply": "2021-07-27T18:45:52.985288Z",
     "shell.execute_reply.started": "2021-07-27T18:40:59.296952Z"
    },
    "executionInfo": {
     "elapsed": 494,
     "status": "ok",
     "timestamp": 1625956413321,
     "user": {
      "displayName": "Atieno Otonglo",
      "photoUrl": "https://lh3.googleusercontent.com/a-/AOh14Ggc-rVDrwjl1vxvV3eclt4i-OGgGajJg7-jhbwF9w=s64",
      "userId": "16481023189709521431"
     },
     "user_tz": -180
    },
    "id": "Vhad2Lp0jc32",
    "outputId": "18ee13d0-8c93-41cb-e20d-e4ac315bd1d0",
    "papermill": {
     "duration": 0.054362,
     "end_time": "2021-07-27T18:45:52.985475",
     "exception": false,
     "start_time": "2021-07-27T18:45:52.931113",
     "status": "completed"
    },
    "tags": []
   },
   "outputs": [
    {
     "data": {
      "text/plain": [
       "Identifier    0\n",
       "sex           0\n",
       "age           0\n",
       "income        0\n",
       "purchase      0\n",
       "dtype: int64"
      ]
     },
     "execution_count": 7,
     "metadata": {},
     "output_type": "execute_result"
    }
   ],
   "source": [
    "assignment_data.isnull().sum()"
   ]
  },
  {
   "cell_type": "markdown",
   "id": "f6edc1a4",
   "metadata": {
    "id": "wVCapS-xjj5b",
    "papermill": {
     "duration": 0.042144,
     "end_time": "2021-07-27T18:45:53.071019",
     "exception": false,
     "start_time": "2021-07-27T18:45:53.028875",
     "status": "completed"
    },
    "tags": []
   },
   "source": [
    " 1.3. Encode the data where necessary."
   ]
  },
  {
   "cell_type": "code",
   "execution_count": 8,
   "id": "e0b8463a",
   "metadata": {
    "execution": {
     "iopub.execute_input": "2021-07-27T18:45:53.168074Z",
     "iopub.status.busy": "2021-07-27T18:45:53.167266Z",
     "iopub.status.idle": "2021-07-27T18:45:53.170271Z",
     "shell.execute_reply": "2021-07-27T18:45:53.170718Z",
     "shell.execute_reply.started": "2021-07-27T18:40:59.316462Z"
    },
    "executionInfo": {
     "elapsed": 484,
     "status": "ok",
     "timestamp": 1625957127261,
     "user": {
      "displayName": "Atieno Otonglo",
      "photoUrl": "https://lh3.googleusercontent.com/a-/AOh14Ggc-rVDrwjl1vxvV3eclt4i-OGgGajJg7-jhbwF9w=s64",
      "userId": "16481023189709521431"
     },
     "user_tz": -180
    },
    "id": "OXEqDGGVjxOP",
    "outputId": "9650c280-537f-4f84-e089-840f5ef44a6f",
    "papermill": {
     "duration": 0.05789,
     "end_time": "2021-07-27T18:45:53.170899",
     "exception": false,
     "start_time": "2021-07-27T18:45:53.113009",
     "status": "completed"
    },
    "tags": []
   },
   "outputs": [
    {
     "data": {
      "text/html": [
       "<div>\n",
       "<style scoped>\n",
       "    .dataframe tbody tr th:only-of-type {\n",
       "        vertical-align: middle;\n",
       "    }\n",
       "\n",
       "    .dataframe tbody tr th {\n",
       "        vertical-align: top;\n",
       "    }\n",
       "\n",
       "    .dataframe thead th {\n",
       "        text-align: right;\n",
       "    }\n",
       "</style>\n",
       "<table border=\"1\" class=\"dataframe\">\n",
       "  <thead>\n",
       "    <tr style=\"text-align: right;\">\n",
       "      <th></th>\n",
       "      <th>Male</th>\n",
       "    </tr>\n",
       "  </thead>\n",
       "  <tbody>\n",
       "    <tr>\n",
       "      <th>0</th>\n",
       "      <td>1</td>\n",
       "    </tr>\n",
       "    <tr>\n",
       "      <th>1</th>\n",
       "      <td>1</td>\n",
       "    </tr>\n",
       "    <tr>\n",
       "      <th>2</th>\n",
       "      <td>0</td>\n",
       "    </tr>\n",
       "    <tr>\n",
       "      <th>3</th>\n",
       "      <td>0</td>\n",
       "    </tr>\n",
       "    <tr>\n",
       "      <th>4</th>\n",
       "      <td>1</td>\n",
       "    </tr>\n",
       "    <tr>\n",
       "      <th>5</th>\n",
       "      <td>1</td>\n",
       "    </tr>\n",
       "    <tr>\n",
       "      <th>6</th>\n",
       "      <td>0</td>\n",
       "    </tr>\n",
       "    <tr>\n",
       "      <th>7</th>\n",
       "      <td>0</td>\n",
       "    </tr>\n",
       "    <tr>\n",
       "      <th>8</th>\n",
       "      <td>1</td>\n",
       "    </tr>\n",
       "    <tr>\n",
       "      <th>9</th>\n",
       "      <td>0</td>\n",
       "    </tr>\n",
       "  </tbody>\n",
       "</table>\n",
       "</div>"
      ],
      "text/plain": [
       "   Male\n",
       "0     1\n",
       "1     1\n",
       "2     0\n",
       "3     0\n",
       "4     1\n",
       "5     1\n",
       "6     0\n",
       "7     0\n",
       "8     1\n",
       "9     0"
      ]
     },
     "execution_count": 8,
     "metadata": {},
     "output_type": "execute_result"
    }
   ],
   "source": [
    "sex= pd.get_dummies(assignment_data['sex'], drop_first=True)\n",
    "assignment_data['sex'] = sex\n",
    "sex.head(10)"
   ]
  },
  {
   "cell_type": "code",
   "execution_count": 9,
   "id": "7a412f43",
   "metadata": {
    "execution": {
     "iopub.execute_input": "2021-07-27T18:45:53.261244Z",
     "iopub.status.busy": "2021-07-27T18:45:53.260565Z",
     "iopub.status.idle": "2021-07-27T18:45:53.276609Z",
     "shell.execute_reply": "2021-07-27T18:45:53.275982Z",
     "shell.execute_reply.started": "2021-07-27T18:40:59.343285Z"
    },
    "executionInfo": {
     "elapsed": 818,
     "status": "ok",
     "timestamp": 1625957177267,
     "user": {
      "displayName": "Atieno Otonglo",
      "photoUrl": "https://lh3.googleusercontent.com/a-/AOh14Ggc-rVDrwjl1vxvV3eclt4i-OGgGajJg7-jhbwF9w=s64",
      "userId": "16481023189709521431"
     },
     "user_tz": -180
    },
    "id": "rlr5LzIGmSiY",
    "outputId": "50337f6d-5f49-4d6a-cbbb-1ae08b59cff9",
    "papermill": {
     "duration": 0.062568,
     "end_time": "2021-07-27T18:45:53.276771",
     "exception": false,
     "start_time": "2021-07-27T18:45:53.214203",
     "status": "completed"
    },
    "tags": []
   },
   "outputs": [
    {
     "data": {
      "text/html": [
       "<div>\n",
       "<style scoped>\n",
       "    .dataframe tbody tr th:only-of-type {\n",
       "        vertical-align: middle;\n",
       "    }\n",
       "\n",
       "    .dataframe tbody tr th {\n",
       "        vertical-align: top;\n",
       "    }\n",
       "\n",
       "    .dataframe thead th {\n",
       "        text-align: right;\n",
       "    }\n",
       "</style>\n",
       "<table border=\"1\" class=\"dataframe\">\n",
       "  <thead>\n",
       "    <tr style=\"text-align: right;\">\n",
       "      <th></th>\n",
       "      <th>Identifier</th>\n",
       "      <th>sex</th>\n",
       "      <th>age</th>\n",
       "      <th>income</th>\n",
       "      <th>purchase</th>\n",
       "    </tr>\n",
       "  </thead>\n",
       "  <tbody>\n",
       "    <tr>\n",
       "      <th>0</th>\n",
       "      <td>15624510</td>\n",
       "      <td>1</td>\n",
       "      <td>19.0</td>\n",
       "      <td>19000.0</td>\n",
       "      <td>0.0</td>\n",
       "    </tr>\n",
       "    <tr>\n",
       "      <th>1</th>\n",
       "      <td>15810944</td>\n",
       "      <td>1</td>\n",
       "      <td>35.0</td>\n",
       "      <td>20000.0</td>\n",
       "      <td>0.0</td>\n",
       "    </tr>\n",
       "    <tr>\n",
       "      <th>2</th>\n",
       "      <td>15668575</td>\n",
       "      <td>0</td>\n",
       "      <td>26.0</td>\n",
       "      <td>43000.0</td>\n",
       "      <td>0.0</td>\n",
       "    </tr>\n",
       "    <tr>\n",
       "      <th>3</th>\n",
       "      <td>15603246</td>\n",
       "      <td>0</td>\n",
       "      <td>27.0</td>\n",
       "      <td>57000.0</td>\n",
       "      <td>0.0</td>\n",
       "    </tr>\n",
       "    <tr>\n",
       "      <th>4</th>\n",
       "      <td>15804002</td>\n",
       "      <td>1</td>\n",
       "      <td>19.0</td>\n",
       "      <td>76000.0</td>\n",
       "      <td>0.0</td>\n",
       "    </tr>\n",
       "    <tr>\n",
       "      <th>5</th>\n",
       "      <td>15728773</td>\n",
       "      <td>1</td>\n",
       "      <td>27.0</td>\n",
       "      <td>58000.0</td>\n",
       "      <td>0.0</td>\n",
       "    </tr>\n",
       "    <tr>\n",
       "      <th>6</th>\n",
       "      <td>15598044</td>\n",
       "      <td>0</td>\n",
       "      <td>27.0</td>\n",
       "      <td>84000.0</td>\n",
       "      <td>0.0</td>\n",
       "    </tr>\n",
       "    <tr>\n",
       "      <th>7</th>\n",
       "      <td>15694829</td>\n",
       "      <td>0</td>\n",
       "      <td>32.0</td>\n",
       "      <td>150000.0</td>\n",
       "      <td>1.0</td>\n",
       "    </tr>\n",
       "    <tr>\n",
       "      <th>8</th>\n",
       "      <td>15600575</td>\n",
       "      <td>1</td>\n",
       "      <td>25.0</td>\n",
       "      <td>33000.0</td>\n",
       "      <td>0.0</td>\n",
       "    </tr>\n",
       "    <tr>\n",
       "      <th>9</th>\n",
       "      <td>15727311</td>\n",
       "      <td>0</td>\n",
       "      <td>35.0</td>\n",
       "      <td>65000.0</td>\n",
       "      <td>0.0</td>\n",
       "    </tr>\n",
       "  </tbody>\n",
       "</table>\n",
       "</div>"
      ],
      "text/plain": [
       "   Identifier  sex   age    income  purchase\n",
       "0    15624510    1  19.0   19000.0       0.0\n",
       "1    15810944    1  35.0   20000.0       0.0\n",
       "2    15668575    0  26.0   43000.0       0.0\n",
       "3    15603246    0  27.0   57000.0       0.0\n",
       "4    15804002    1  19.0   76000.0       0.0\n",
       "5    15728773    1  27.0   58000.0       0.0\n",
       "6    15598044    0  27.0   84000.0       0.0\n",
       "7    15694829    0  32.0  150000.0       1.0\n",
       "8    15600575    1  25.0   33000.0       0.0\n",
       "9    15727311    0  35.0   65000.0       0.0"
      ]
     },
     "execution_count": 9,
     "metadata": {},
     "output_type": "execute_result"
    }
   ],
   "source": [
    "assignment_data.head(10)"
   ]
  },
  {
   "cell_type": "markdown",
   "id": "2f68e4c9",
   "metadata": {
    "id": "rKkrxtyRmn1D",
    "papermill": {
     "duration": 0.043537,
     "end_time": "2021-07-27T18:45:53.364809",
     "exception": false,
     "start_time": "2021-07-27T18:45:53.321272",
     "status": "completed"
    },
    "tags": []
   },
   "source": [
    "1.4. Visualize the columns and their pairs.\n"
   ]
  },
  {
   "cell_type": "code",
   "execution_count": 10,
   "id": "6c4fd367",
   "metadata": {
    "execution": {
     "iopub.execute_input": "2021-07-27T18:45:53.454490Z",
     "iopub.status.busy": "2021-07-27T18:45:53.453822Z",
     "iopub.status.idle": "2021-07-27T18:45:53.828557Z",
     "shell.execute_reply": "2021-07-27T18:45:53.829111Z",
     "shell.execute_reply.started": "2021-07-27T18:40:59.418264Z"
    },
    "executionInfo": {
     "elapsed": 441,
     "status": "ok",
     "timestamp": 1626009870614,
     "user": {
      "displayName": "Atieno Otonglo",
      "photoUrl": "https://lh3.googleusercontent.com/a-/AOh14Ggc-rVDrwjl1vxvV3eclt4i-OGgGajJg7-jhbwF9w=s64",
      "userId": "16481023189709521431"
     },
     "user_tz": -180
    },
    "id": "UCU7KXULu604",
    "outputId": "a696617c-6561-4eee-e8c5-520d6b2ddeef",
    "papermill": {
     "duration": 0.420958,
     "end_time": "2021-07-27T18:45:53.829319",
     "exception": false,
     "start_time": "2021-07-27T18:45:53.408361",
     "status": "completed"
    },
    "tags": []
   },
   "outputs": [
    {
     "data": {
      "text/plain": [
       "Text(0.5, 1.0, 'Age Histogram')"
      ]
     },
     "execution_count": 10,
     "metadata": {},
     "output_type": "execute_result"
    },
    {
     "data": {
      "image/png": "[encoded data removed]",
      "text/plain": [
       "<Figure size 432x288 with 1 Axes>"
      ]
     },
     "metadata": {
      "needs_background": "light"
     },
     "output_type": "display_data"
    }
   ],
   "source": [
    "#assignment_data[\"age\"].plot.hist()\n",
    "sns.distplot(assignment_data['age']).set_title('Age Histogram')"
   ]
  },
  {
   "cell_type": "code",
   "execution_count": 11,
   "id": "7cdc658c",
   "metadata": {
    "execution": {
     "iopub.execute_input": "2021-07-27T18:45:53.955905Z",
     "iopub.status.busy": "2021-07-27T18:45:53.955197Z",
     "iopub.status.idle": "2021-07-27T18:45:54.162892Z",
     "shell.execute_reply": "2021-07-27T18:45:54.163392Z",
     "shell.execute_reply.started": "2021-07-27T18:40:59.711022Z"
    },
    "executionInfo": {
     "elapsed": 512,
     "status": "ok",
     "timestamp": 1626009912128,
     "user": {
      "displayName": "Atieno Otonglo",
      "photoUrl": "https://lh3.googleusercontent.com/a-/AOh14Ggc-rVDrwjl1vxvV3eclt4i-OGgGajJg7-jhbwF9w=s64",
      "userId": "16481023189709521431"
     },
     "user_tz": -180
    },
    "id": "sYg29a8avhoe",
    "outputId": "52a254be-8d66-4400-f95d-79261ebad1bd",
    "papermill": {
     "duration": 0.288507,
     "end_time": "2021-07-27T18:45:54.163576",
     "exception": false,
     "start_time": "2021-07-27T18:45:53.875069",
     "status": "completed"
    },
    "tags": []
   },
   "outputs": [
    {
     "data": {
      "text/plain": [
       "Text(0.5, 1.0, 'Income Histogram')"
      ]
     },
     "execution_count": 11,
     "metadata": {},
     "output_type": "execute_result"
    },
    {
     "data": {
      "image/png": "[encoded data removed]",
      "text/plain": [
       "<Figure size 432x288 with 1 Axes>"
      ]
     },
     "metadata": {
      "needs_background": "light"
     },
     "output_type": "display_data"
    }
   ],
   "source": [
    "#assignment_data[\"income\"].plot.hist()\n",
    "sns.distplot(assignment_data['income']).set_title('Income Histogram')"
   ]
  },
  {
   "cell_type": "code",
   "execution_count": 12,
   "id": "71675439",
   "metadata": {
    "execution": {
     "iopub.execute_input": "2021-07-27T18:45:54.266758Z",
     "iopub.status.busy": "2021-07-27T18:45:54.266074Z",
     "iopub.status.idle": "2021-07-27T18:45:54.389218Z",
     "shell.execute_reply": "2021-07-27T18:45:54.389688Z",
     "shell.execute_reply.started": "2021-07-27T18:41:00.034852Z"
    },
    "executionInfo": {
     "elapsed": 651,
     "status": "ok",
     "timestamp": 1626010020277,
     "user": {
      "displayName": "Atieno Otonglo",
      "photoUrl": "https://lh3.googleusercontent.com/a-/AOh14Ggc-rVDrwjl1vxvV3eclt4i-OGgGajJg7-jhbwF9w=s64",
      "userId": "16481023189709521431"
     },
     "user_tz": -180
    },
    "id": "lQiG7tQQv8dx",
    "outputId": "dc15ea0b-5340-4523-b0fc-7d78a3710c83",
    "papermill": {
     "duration": 0.180929,
     "end_time": "2021-07-27T18:45:54.389931",
     "exception": false,
     "start_time": "2021-07-27T18:45:54.209002",
     "status": "completed"
    },
    "tags": []
   },
   "outputs": [
    {
     "data": {
      "text/plain": [
       "Text(0.5, 1.0, 'Count of males and females in the dataset')"
      ]
     },
     "execution_count": 12,
     "metadata": {},
     "output_type": "execute_result"
    },
    {
     "data": {
      "image/png": "[encoded data removed]",
      "text/plain": [
       "<Figure size 432x288 with 1 Axes>"
      ]
     },
     "metadata": {
      "needs_background": "light"
     },
     "output_type": "display_data"
    }
   ],
   "source": [
    "sns.countplot(x=\"sex\", data =assignment_data)\n",
    "plt.title(\"Count of males and females in the dataset\")"
   ]
  },
  {
   "cell_type": "code",
   "execution_count": 13,
   "id": "10971740",
   "metadata": {
    "execution": {
     "iopub.execute_input": "2021-07-27T18:45:54.491805Z",
     "iopub.status.busy": "2021-07-27T18:45:54.491059Z",
     "iopub.status.idle": "2021-07-27T18:45:54.660892Z",
     "shell.execute_reply": "2021-07-27T18:45:54.661395Z",
     "shell.execute_reply.started": "2021-07-27T18:41:00.191405Z"
    },
    "executionInfo": {
     "elapsed": 834,
     "status": "ok",
     "timestamp": 1625957530921,
     "user": {
      "displayName": "Atieno Otonglo",
      "photoUrl": "https://lh3.googleusercontent.com/a-/AOh14Ggc-rVDrwjl1vxvV3eclt4i-OGgGajJg7-jhbwF9w=s64",
      "userId": "16481023189709521431"
     },
     "user_tz": -180
    },
    "id": "nlGg1o9qnmHF",
    "outputId": "07227179-fa1a-4e40-85ad-5b15dc74cd60",
    "papermill": {
     "duration": 0.225266,
     "end_time": "2021-07-27T18:45:54.661581",
     "exception": false,
     "start_time": "2021-07-27T18:45:54.436315",
     "status": "completed"
    },
    "tags": []
   },
   "outputs": [
    {
     "data": {
      "text/plain": [
       "Text(0.5, 1.0, 'Count of purchase over sex')"
      ]
     },
     "execution_count": 13,
     "metadata": {},
     "output_type": "execute_result"
    },
    {
     "data": {
      "image/png": "[encoded data removed]",
      "text/plain": [
       "<Figure size 432x288 with 1 Axes>"
      ]
     },
     "metadata": {
      "needs_background": "light"
     },
     "output_type": "display_data"
    }
   ],
   "source": [
    "sns.countplot(x=\"purchase\", hue=\"sex\", data =assignment_data)\n",
    "plt.title(\"Count of purchase over sex\")"
   ]
  },
  {
   "cell_type": "code",
   "execution_count": 14,
   "id": "13e94ba8",
   "metadata": {
    "execution": {
     "iopub.execute_input": "2021-07-27T18:45:54.760140Z",
     "iopub.status.busy": "2021-07-27T18:45:54.759470Z",
     "iopub.status.idle": "2021-07-27T18:45:54.910453Z",
     "shell.execute_reply": "2021-07-27T18:45:54.910935Z",
     "shell.execute_reply.started": "2021-07-27T18:41:00.406503Z"
    },
    "executionInfo": {
     "elapsed": 1300,
     "status": "ok",
     "timestamp": 1626010093399,
     "user": {
      "displayName": "Atieno Otonglo",
      "photoUrl": "https://lh3.googleusercontent.com/a-/AOh14Ggc-rVDrwjl1vxvV3eclt4i-OGgGajJg7-jhbwF9w=s64",
      "userId": "16481023189709521431"
     },
     "user_tz": -180
    },
    "id": "J9HsypFqqXK2",
    "outputId": "98398549-576e-4f80-b69e-b73bc72b5915",
    "papermill": {
     "duration": 0.20206,
     "end_time": "2021-07-27T18:45:54.911116",
     "exception": false,
     "start_time": "2021-07-27T18:45:54.709056",
     "status": "completed"
    },
    "tags": []
   },
   "outputs": [
    {
     "data": {
      "text/plain": [
       "Text(0.5, 1.0, 'Boxplot of sex distribution over income')"
      ]
     },
     "execution_count": 14,
     "metadata": {},
     "output_type": "execute_result"
    },
    {
     "data": {
      "image/png": "[encoded data removed]",
      "text/plain": [
       "<Figure size 432x288 with 1 Axes>"
      ]
     },
     "metadata": {
      "needs_background": "light"
     },
     "output_type": "display_data"
    }
   ],
   "source": [
    "sns.boxplot(x=\"purchase\", y=\"age\", data=assignment_data)\n",
    "plt.title('Boxplot of sex distribution over income')\n"
   ]
  },
  {
   "cell_type": "code",
   "execution_count": 15,
   "id": "b5a65d37",
   "metadata": {
    "execution": {
     "iopub.execute_input": "2021-07-27T18:45:55.012312Z",
     "iopub.status.busy": "2021-07-27T18:45:55.011539Z",
     "iopub.status.idle": "2021-07-27T18:45:55.288545Z",
     "shell.execute_reply": "2021-07-27T18:45:55.289053Z",
     "shell.execute_reply.started": "2021-07-27T18:41:00.595537Z"
    },
    "executionInfo": {
     "elapsed": 429,
     "status": "ok",
     "timestamp": 1626008914999,
     "user": {
      "displayName": "Atieno Otonglo",
      "photoUrl": "https://lh3.googleusercontent.com/a-/AOh14Ggc-rVDrwjl1vxvV3eclt4i-OGgGajJg7-jhbwF9w=s64",
      "userId": "16481023189709521431"
     },
     "user_tz": -180
    },
    "id": "KLIG3WH7qwBP",
    "outputId": "b8fbd74e-6b64-4e67-c905-a07bb4232851",
    "papermill": {
     "duration": 0.328981,
     "end_time": "2021-07-27T18:45:55.289258",
     "exception": false,
     "start_time": "2021-07-27T18:45:54.960277",
     "status": "completed"
    },
    "tags": []
   },
   "outputs": [
    {
     "data": {
      "text/plain": [
       "Text(0.5, 1.0, 'Boxplot of sex distribution over income')"
      ]
     },
     "execution_count": 15,
     "metadata": {},
     "output_type": "execute_result"
    },
    {
     "data": {
      "image/png": "[encoded data removed]",
      "text/plain": [
       "<Figure size 432x288 with 1 Axes>"
      ]
     },
     "metadata": {
      "needs_background": "light"
     },
     "output_type": "display_data"
    }
   ],
   "source": [
    "sns.boxplot(x=\"sex\", y=\"income\", data=assignment_data)\n",
    "plt.title('Boxplot of sex distribution over income')\n"
   ]
  },
  {
   "cell_type": "code",
   "execution_count": 16,
   "id": "059743f0",
   "metadata": {
    "execution": {
     "iopub.execute_input": "2021-07-27T18:45:55.392027Z",
     "iopub.status.busy": "2021-07-27T18:45:55.391371Z",
     "iopub.status.idle": "2021-07-27T18:45:55.556991Z",
     "shell.execute_reply": "2021-07-27T18:45:55.556343Z",
     "shell.execute_reply.started": "2021-07-27T18:41:00.794175Z"
    },
    "executionInfo": {
     "elapsed": 441,
     "status": "ok",
     "timestamp": 1626010509921,
     "user": {
      "displayName": "Atieno Otonglo",
      "photoUrl": "https://lh3.googleusercontent.com/a-/AOh14Ggc-rVDrwjl1vxvV3eclt4i-OGgGajJg7-jhbwF9w=s64",
      "userId": "16481023189709521431"
     },
     "user_tz": -180
    },
    "id": "DnNKZ4eHx0Ru",
    "outputId": "c417afab-9067-4333-9df6-0a5990da2a75",
    "papermill": {
     "duration": 0.218184,
     "end_time": "2021-07-27T18:45:55.557131",
     "exception": false,
     "start_time": "2021-07-27T18:45:55.338947",
     "status": "completed"
    },
    "tags": []
   },
   "outputs": [
    {
     "data": {
      "text/plain": [
       "Text(0.5, 1.0, 'Boxplot of purchase habit over income')"
      ]
     },
     "execution_count": 16,
     "metadata": {},
     "output_type": "execute_result"
    },
    {
     "data": {
      "image/png": "[encoded data removed]",
      "text/plain": [
       "<Figure size 432x288 with 1 Axes>"
      ]
     },
     "metadata": {
      "needs_background": "light"
     },
     "output_type": "display_data"
    }
   ],
   "source": [
    "sns.boxplot(x=\"purchase\", y=\"income\", data=assignment_data)\n",
    "plt.title('Boxplot of purchase habit over income')"
   ]
  },
  {
   "cell_type": "code",
   "execution_count": 17,
   "id": "ca5867b3",
   "metadata": {
    "execution": {
     "iopub.execute_input": "2021-07-27T18:45:55.700915Z",
     "iopub.status.busy": "2021-07-27T18:45:55.690057Z",
     "iopub.status.idle": "2021-07-27T18:45:55.821018Z",
     "shell.execute_reply": "2021-07-27T18:45:55.819829Z",
     "shell.execute_reply.started": "2021-07-27T18:41:00.993994Z"
    },
    "executionInfo": {
     "elapsed": 474,
     "status": "ok",
     "timestamp": 1626010887207,
     "user": {
      "displayName": "Atieno Otonglo",
      "photoUrl": "https://lh3.googleusercontent.com/a-/AOh14Ggc-rVDrwjl1vxvV3eclt4i-OGgGajJg7-jhbwF9w=s64",
      "userId": "16481023189709521431"
     },
     "user_tz": -180
    },
    "id": "83ZwNk9Fywk6",
    "outputId": "202a8430-b6a8-42cf-8cf9-c762d8846384",
    "papermill": {
     "duration": 0.213367,
     "end_time": "2021-07-27T18:45:55.821230",
     "exception": false,
     "start_time": "2021-07-27T18:45:55.607863",
     "status": "completed"
    },
    "tags": []
   },
   "outputs": [
    {
     "data": {
      "image/png": "[encoded data removed]",
      "text/plain": [
       "<Figure size 432x288 with 1 Axes>"
      ]
     },
     "metadata": {
      "needs_background": "light"
     },
     "output_type": "display_data"
    }
   ],
   "source": [
    "sns.boxplot(x=\"sex\", y=\"age\", data=assignment_data)\n",
    "plt.title('Boxplot of age distribution over sex')\n",
    "sns.set(rc={'figure.figsize':(5,5)})"
   ]
  },
  {
   "cell_type": "markdown",
   "id": "58b386c1",
   "metadata": {
    "papermill": {
     "duration": 0.051189,
     "end_time": "2021-07-27T18:45:55.924541",
     "exception": false,
     "start_time": "2021-07-27T18:45:55.873352",
     "status": "completed"
    },
    "tags": []
   },
   "source": [
    "### 1.5 Produce the correlation matrix to make a first guess on usefulness of the predictors"
   ]
  },
  {
   "cell_type": "code",
   "execution_count": 18,
   "id": "c3f25ab4",
   "metadata": {
    "execution": {
     "iopub.execute_input": "2021-07-27T18:45:56.036486Z",
     "iopub.status.busy": "2021-07-27T18:45:56.035400Z",
     "iopub.status.idle": "2021-07-27T18:45:56.435006Z",
     "shell.execute_reply": "2021-07-27T18:45:56.435523Z",
     "shell.execute_reply.started": "2021-07-27T18:41:01.171876Z"
    },
    "executionInfo": {
     "elapsed": 746,
     "status": "ok",
     "timestamp": 1625958358487,
     "user": {
      "displayName": "Atieno Otonglo",
      "photoUrl": "https://lh3.googleusercontent.com/a-/AOh14Ggc-rVDrwjl1vxvV3eclt4i-OGgGajJg7-jhbwF9w=s64",
      "userId": "16481023189709521431"
     },
     "user_tz": -180
    },
    "id": "yYSYRcawqm3_",
    "outputId": "2afa56f6-a553-4df0-e2c7-4ad2009900d1",
    "papermill": {
     "duration": 0.45761,
     "end_time": "2021-07-27T18:45:56.435706",
     "exception": false,
     "start_time": "2021-07-27T18:45:55.978096",
     "status": "completed"
    },
    "tags": []
   },
   "outputs": [
    {
     "data": {
      "image/png": "[encoded data removed]",
      "text/plain": [
       "<Figure size 360x360 with 2 Axes>"
      ]
     },
     "metadata": {},
     "output_type": "display_data"
    }
   ],
   "source": [
    "plt.title('Correlation Matrix of Predictors vs Response')\n",
    "plot = sns.heatmap(assignment_data.corr(), annot=True,cmap=sns.diverging_palette(20, 220, n=200),linewidths=.5,square=True)\n",
    "sns.set(rc={'figure.figsize':(10,7)})\n"
   ]
  },
  {
   "cell_type": "markdown",
   "id": "59911b3c",
   "metadata": {
    "papermill": {
     "duration": 0.052217,
     "end_time": "2021-07-27T18:45:56.540763",
     "exception": false,
     "start_time": "2021-07-27T18:45:56.488546",
     "status": "completed"
    },
    "tags": []
   },
   "source": [
    "The correlation matrix shows that age (0.63) and income (0.34) has the highest correlation with purchase. "
   ]
  },
  {
   "cell_type": "markdown",
   "id": "405adff2",
   "metadata": {
    "papermill": {
     "duration": 0.052575,
     "end_time": "2021-07-27T18:45:56.645691",
     "exception": false,
     "start_time": "2021-07-27T18:45:56.593116",
     "status": "completed"
    },
    "tags": []
   },
   "source": [
    "## Part 2. Inference by logistic regression\n",
    "* 2.1. You have 3 predictors (sex, age, income) and the target class variable purchase, taking the value 1 if he or she already bought a car once in the past. To predict this class for new potential customers, you need to learn the logistic regression model parameters.\n",
    "* 2.2. Divide your client base into training and testing sets.\n",
    "* 2.3. Fit the model on a training set.\n",
    "* 2.4. Produce your estimated regression equation, interpret the coefficients and comment on the regression summary.\n",
    "* 2.5. Try to reduce your model, dropping some predictors, and repeat the above steps with each reduced version.\n",
    "* 2.6. Compare the fitting results for your models."
   ]
  },
  {
   "cell_type": "code",
   "execution_count": 19,
   "id": "5322ffbb",
   "metadata": {
    "execution": {
     "iopub.execute_input": "2021-07-27T18:45:56.755435Z",
     "iopub.status.busy": "2021-07-27T18:45:56.754757Z",
     "iopub.status.idle": "2021-07-27T18:45:57.586796Z",
     "shell.execute_reply": "2021-07-27T18:45:57.587379Z",
     "shell.execute_reply.started": "2021-07-27T18:41:01.557070Z"
    },
    "papermill": {
     "duration": 0.888193,
     "end_time": "2021-07-27T18:45:57.587566",
     "exception": false,
     "start_time": "2021-07-27T18:45:56.699373",
     "status": "completed"
    },
    "tags": []
   },
   "outputs": [],
   "source": [
    "X_train, X_test , Y_train, Y_test = train_test_split(assignment_data.drop\n",
    "                                                     (['Identifier', 'purchase'],axis=1),\n",
    "                                                     assignment_data['purchase'],\n",
    "                                                     test_size=0.3,\n",
    "                                                     random_state=0)\n",
    "\n",
    "assignment_data['income'] = assignment_data['income']*0.001"
   ]
  },
  {
   "cell_type": "code",
   "execution_count": 20,
   "id": "787c6e14",
   "metadata": {
    "execution": {
     "iopub.execute_input": "2021-07-27T18:45:57.697645Z",
     "iopub.status.busy": "2021-07-27T18:45:57.696456Z",
     "iopub.status.idle": "2021-07-27T18:45:57.804031Z",
     "shell.execute_reply": "2021-07-27T18:45:57.805271Z",
     "shell.execute_reply.started": "2021-07-27T18:41:01.567048Z"
    },
    "papermill": {
     "duration": 0.164606,
     "end_time": "2021-07-27T18:45:57.805574",
     "exception": false,
     "start_time": "2021-07-27T18:45:57.640968",
     "status": "completed"
    },
    "tags": []
   },
   "outputs": [
    {
     "name": "stdout",
     "output_type": "stream",
     "text": [
      "Optimization terminated successfully.\n",
      "         Current function value: 0.354756\n",
      "         Iterations 8\n",
      "                         Results: Logit\n",
      "=================================================================\n",
      "Model:              Logit            Pseudo R-squared: 0.464     \n",
      "Dependent Variable: purchase         AIC:              225.1108  \n",
      "Date:               2021-07-27 18:45 BIC:              240.0052  \n",
      "No. Observations:   306              Log-Likelihood:   -108.56   \n",
      "Df Model:           3                LL-Null:          -202.57   \n",
      "Df Residuals:       302              LLR p-value:      1.6339e-40\n",
      "Converged:          1.0000           Scale:            1.0000    \n",
      "No. Iterations:     8.0000                                       \n",
      "------------------------------------------------------------------\n",
      "             Coef.    Std.Err.     z     P>|z|    [0.025    0.975]\n",
      "------------------------------------------------------------------\n",
      "const       -12.7922    1.5558  -8.2221  0.0000  -15.8415  -9.7428\n",
      "sex           0.2946    0.3435   0.8578  0.3910   -0.3786   0.9678\n",
      "age           0.2334    0.0298   7.8425  0.0000    0.1751   0.2918\n",
      "income        0.0000    0.0000   5.9629  0.0000    0.0000   0.0001\n",
      "=================================================================\n",
      "\n"
     ]
    }
   ],
   "source": [
    "#Keep all 3 parameters\n",
    "X_train = sm.add_constant(X_train)\n",
    "log_reg_3par = sm.Logit(Y_train, X_train).fit()\n",
    "print(log_reg_3par.summary2())"
   ]
  },
  {
   "cell_type": "code",
   "execution_count": 21,
   "id": "4245adb2",
   "metadata": {
    "execution": {
     "iopub.execute_input": "2021-07-27T18:45:57.946943Z",
     "iopub.status.busy": "2021-07-27T18:45:57.946173Z",
     "iopub.status.idle": "2021-07-27T18:45:58.001204Z",
     "shell.execute_reply": "2021-07-27T18:45:58.002970Z",
     "shell.execute_reply.started": "2021-07-27T18:41:01.643010Z"
    },
    "papermill": {
     "duration": 0.120688,
     "end_time": "2021-07-27T18:45:58.003298",
     "exception": false,
     "start_time": "2021-07-27T18:45:57.882610",
     "status": "completed"
    },
    "tags": []
   },
   "outputs": [
    {
     "name": "stdout",
     "output_type": "stream",
     "text": [
      "Optimization terminated successfully.\n",
      "         Current function value: 0.355968\n",
      "         Iterations 8\n",
      "                         Results: Logit\n",
      "=================================================================\n",
      "Model:              Logit            Pseudo R-squared: 0.462     \n",
      "Dependent Variable: purchase         AIC:              223.8526  \n",
      "Date:               2021-07-27 18:45 BIC:              235.0233  \n",
      "No. Observations:   306              Log-Likelihood:   -108.93   \n",
      "Df Model:           2                LL-Null:          -202.57   \n",
      "Df Residuals:       303              LLR p-value:      2.1526e-41\n",
      "Converged:          1.0000           Scale:            1.0000    \n",
      "No. Iterations:     8.0000                                       \n",
      "------------------------------------------------------------------\n",
      "             Coef.    Std.Err.     z     P>|z|    [0.025    0.975]\n",
      "------------------------------------------------------------------\n",
      "const       -12.4762    1.4885  -8.3816  0.0000  -15.3937  -9.5588\n",
      "age           0.2301    0.0292   7.8780  0.0000    0.1728   0.2873\n",
      "income        0.0000    0.0000   5.9328  0.0000    0.0000   0.0001\n",
      "=================================================================\n",
      "\n"
     ]
    }
   ],
   "source": [
    "#Remove Sex \n",
    "X_train_dropsex = sm.add_constant(X_train[['age', 'income']])\n",
    "log_reg_dropsex = sm.Logit(Y_train, X_train_dropsex).fit()\n",
    "print(log_reg_dropsex.summary2())"
   ]
  },
  {
   "cell_type": "code",
   "execution_count": 22,
   "id": "0ca77d6d",
   "metadata": {
    "execution": {
     "iopub.execute_input": "2021-07-27T18:45:58.149486Z",
     "iopub.status.busy": "2021-07-27T18:45:58.148679Z",
     "iopub.status.idle": "2021-07-27T18:45:58.186269Z",
     "shell.execute_reply": "2021-07-27T18:45:58.187117Z",
     "shell.execute_reply.started": "2021-07-27T18:41:01.711125Z"
    },
    "papermill": {
     "duration": 0.101204,
     "end_time": "2021-07-27T18:45:58.187401",
     "exception": false,
     "start_time": "2021-07-27T18:45:58.086197",
     "status": "completed"
    },
    "tags": []
   },
   "outputs": [
    {
     "name": "stdout",
     "output_type": "stream",
     "text": [
      "Optimization terminated successfully.\n",
      "         Current function value: 0.589592\n",
      "         Iterations 5\n",
      "                         Results: Logit\n",
      "=================================================================\n",
      "Model:              Logit            Pseudo R-squared: 0.109     \n",
      "Dependent Variable: purchase         AIC:              366.8305  \n",
      "Date:               2021-07-27 18:45 BIC:              378.0013  \n",
      "No. Observations:   306              Log-Likelihood:   -180.42   \n",
      "Df Model:           2                LL-Null:          -202.57   \n",
      "Df Residuals:       303              LLR p-value:      2.4000e-10\n",
      "Converged:          1.0000           Scale:            1.0000    \n",
      "No. Iterations:     5.0000                                       \n",
      "-------------------------------------------------------------------\n",
      "           Coef.    Std.Err.      z      P>|z|     [0.025    0.975]\n",
      "-------------------------------------------------------------------\n",
      "const     -2.2518     0.3539   -6.3624   0.0000   -2.9455   -1.5581\n",
      "sex       -0.1427     0.2555   -0.5585   0.5765   -0.6434    0.3580\n",
      "income     0.0000     0.0000    6.0600   0.0000    0.0000    0.0000\n",
      "=================================================================\n",
      "\n"
     ]
    }
   ],
   "source": [
    "#Remove Age\n",
    "X_train_dropage = sm.add_constant(X_train[['sex', 'income']])\n",
    "log_reg_dropage = sm.Logit(Y_train, X_train_dropage).fit()\n",
    "print(log_reg_dropage.summary2())"
   ]
  },
  {
   "cell_type": "code",
   "execution_count": 23,
   "id": "8aeefefb",
   "metadata": {
    "execution": {
     "iopub.execute_input": "2021-07-27T18:45:58.336398Z",
     "iopub.status.busy": "2021-07-27T18:45:58.335674Z",
     "iopub.status.idle": "2021-07-27T18:45:58.381225Z",
     "shell.execute_reply": "2021-07-27T18:45:58.382055Z",
     "shell.execute_reply.started": "2021-07-27T18:41:01.762321Z"
    },
    "papermill": {
     "duration": 0.103736,
     "end_time": "2021-07-27T18:45:58.382348",
     "exception": false,
     "start_time": "2021-07-27T18:45:58.278612",
     "status": "completed"
    },
    "tags": []
   },
   "outputs": [
    {
     "name": "stdout",
     "output_type": "stream",
     "text": [
      "Optimization terminated successfully.\n",
      "         Current function value: 0.434451\n",
      "         Iterations 7\n",
      "                         Results: Logit\n",
      "=================================================================\n",
      "Model:              Logit            Pseudo R-squared: 0.344     \n",
      "Dependent Variable: purchase         AIC:              271.8838  \n",
      "Date:               2021-07-27 18:45 BIC:              283.0545  \n",
      "No. Observations:   306              Log-Likelihood:   -132.94   \n",
      "Df Model:           2                LL-Null:          -202.57   \n",
      "Df Residuals:       303              LLR p-value:      5.7916e-31\n",
      "Converged:          1.0000           Scale:            1.0000    \n",
      "No. Iterations:     7.0000                                       \n",
      "-------------------------------------------------------------------\n",
      "           Coef.    Std.Err.      z      P>|z|     [0.025    0.975]\n",
      "-------------------------------------------------------------------\n",
      "const     -7.9219     0.9134   -8.6729   0.0000   -9.7121   -6.1317\n",
      "sex        0.0687     0.3070    0.2238   0.8229   -0.5330    0.6703\n",
      "age        0.1849     0.0215    8.5901   0.0000    0.1427    0.2271\n",
      "=================================================================\n",
      "\n"
     ]
    }
   ],
   "source": [
    "#Remove income\n",
    "X_train_dropincome = sm.add_constant(X_train[['sex', 'age']])\n",
    "log_reg_dropincome = sm.Logit(Y_train, X_train_dropincome).fit()\n",
    "print(log_reg_dropincome.summary2())"
   ]
  },
  {
   "cell_type": "code",
   "execution_count": 24,
   "id": "fb3ae50c",
   "metadata": {
    "execution": {
     "iopub.execute_input": "2021-07-27T18:45:58.535938Z",
     "iopub.status.busy": "2021-07-27T18:45:58.535235Z",
     "iopub.status.idle": "2021-07-27T18:45:58.581728Z",
     "shell.execute_reply": "2021-07-27T18:45:58.580817Z",
     "shell.execute_reply.started": "2021-07-27T18:41:01.806065Z"
    },
    "papermill": {
     "duration": 0.109404,
     "end_time": "2021-07-27T18:45:58.581952",
     "exception": false,
     "start_time": "2021-07-27T18:45:58.472548",
     "status": "completed"
    },
    "tags": []
   },
   "outputs": [
    {
     "name": "stdout",
     "output_type": "stream",
     "text": [
      "Optimization terminated successfully.\n",
      "         Current function value: 0.434533\n",
      "         Iterations 7\n",
      "                         Results: Logit\n",
      "=================================================================\n",
      "Model:              Logit            Pseudo R-squared: 0.344     \n",
      "Dependent Variable: purchase         AIC:              269.9339  \n",
      "Date:               2021-07-27 18:45 BIC:              277.3811  \n",
      "No. Observations:   306              Log-Likelihood:   -132.97   \n",
      "Df Model:           1                LL-Null:          -202.57   \n",
      "Df Residuals:       304              LLR p-value:      3.9879e-32\n",
      "Converged:          1.0000           Scale:            1.0000    \n",
      "No. Iterations:     7.0000                                       \n",
      "-------------------------------------------------------------------\n",
      "           Coef.    Std.Err.      z      P>|z|     [0.025    0.975]\n",
      "-------------------------------------------------------------------\n",
      "const     -7.8707     0.8819   -8.9252   0.0000   -9.5991   -6.1423\n",
      "age        0.1844     0.0214    8.6161   0.0000    0.1425    0.2264\n",
      "=================================================================\n",
      "\n"
     ]
    }
   ],
   "source": [
    "#Keep Age only\n",
    "X_train_age = sm.add_constant(X_train['age'])\n",
    "log_reg_age = sm.Logit(Y_train, X_train_age).fit()\n",
    "print(log_reg_age.summary2())"
   ]
  },
  {
   "cell_type": "code",
   "execution_count": 25,
   "id": "f184f106",
   "metadata": {
    "execution": {
     "iopub.execute_input": "2021-07-27T18:45:58.706823Z",
     "iopub.status.busy": "2021-07-27T18:45:58.706053Z",
     "iopub.status.idle": "2021-07-27T18:45:58.741849Z",
     "shell.execute_reply": "2021-07-27T18:45:58.742718Z",
     "shell.execute_reply.started": "2021-07-27T18:41:01.847597Z"
    },
    "papermill": {
     "duration": 0.100122,
     "end_time": "2021-07-27T18:45:58.742991",
     "exception": false,
     "start_time": "2021-07-27T18:45:58.642869",
     "status": "completed"
    },
    "tags": []
   },
   "outputs": [
    {
     "name": "stdout",
     "output_type": "stream",
     "text": [
      "Optimization terminated successfully.\n",
      "         Current function value: 0.660697\n",
      "         Iterations 4\n",
      "                        Results: Logit\n",
      "===============================================================\n",
      "Model:              Logit            Pseudo R-squared: 0.002   \n",
      "Dependent Variable: purchase         AIC:              408.3464\n",
      "Date:               2021-07-27 18:45 BIC:              415.7935\n",
      "No. Observations:   306              Log-Likelihood:   -202.17 \n",
      "Df Model:           1                LL-Null:          -202.57 \n",
      "Df Residuals:       304              LLR p-value:      0.37565 \n",
      "Converged:          1.0000           Scale:            1.0000  \n",
      "No. Iterations:     4.0000                                     \n",
      "-----------------------------------------------------------------\n",
      "         Coef.    Std.Err.      z      P>|z|     [0.025    0.975]\n",
      "-----------------------------------------------------------------\n",
      "const   -0.4106     0.1600   -2.5667   0.0103   -0.7241   -0.0971\n",
      "sex     -0.2100     0.2374   -0.8847   0.3763   -0.6752    0.2552\n",
      "===============================================================\n",
      "\n"
     ]
    }
   ],
   "source": [
    "#Keep Sex only\n",
    "X_train_sex = sm.add_constant(X_train['sex'])\n",
    "log_reg_sex = sm.Logit(Y_train, X_train_sex).fit()\n",
    "print(log_reg_sex.summary2())"
   ]
  },
  {
   "cell_type": "code",
   "execution_count": 26,
   "id": "3d8f6afc",
   "metadata": {
    "execution": {
     "iopub.execute_input": "2021-07-27T18:45:58.869976Z",
     "iopub.status.busy": "2021-07-27T18:45:58.868711Z",
     "iopub.status.idle": "2021-07-27T18:45:58.889552Z",
     "shell.execute_reply": "2021-07-27T18:45:58.891042Z",
     "shell.execute_reply.started": "2021-07-27T18:41:01.891516Z"
    },
    "papermill": {
     "duration": 0.087899,
     "end_time": "2021-07-27T18:45:58.891465",
     "exception": false,
     "start_time": "2021-07-27T18:45:58.803566",
     "status": "completed"
    },
    "tags": []
   },
   "outputs": [
    {
     "name": "stdout",
     "output_type": "stream",
     "text": [
      "Optimization terminated successfully.\n",
      "         Current function value: 0.590102\n",
      "         Iterations 5\n",
      "                           Logit Regression Results                           \n",
      "==============================================================================\n",
      "Dep. Variable:               purchase   No. Observations:                  306\n",
      "Model:                          Logit   Df Residuals:                      304\n",
      "Method:                           MLE   Df Model:                            1\n",
      "Date:                Tue, 27 Jul 2021   Pseudo R-squ.:                  0.1086\n",
      "Time:                        18:45:58   Log-Likelihood:                -180.57\n",
      "converged:                       True   LL-Null:                       -202.57\n",
      "Covariance Type:            nonrobust   LLR p-value:                 3.303e-11\n",
      "==============================================================================\n",
      "                 coef    std err          z      P>|z|      [0.025      0.975]\n",
      "------------------------------------------------------------------------------\n",
      "const         -2.3250      0.331     -7.032      0.000      -2.973      -1.677\n",
      "income      2.515e-05   4.13e-06      6.089      0.000    1.71e-05    3.32e-05\n",
      "==============================================================================\n"
     ]
    }
   ],
   "source": [
    "#Keep Income only\n",
    "X_train_income = sm.add_constant(X_train['income'])\n",
    "log_reg_income = sm.Logit(Y_train, X_train_income).fit()\n",
    "print(log_reg_income.summary())"
   ]
  },
  {
   "cell_type": "markdown",
   "id": "5fc30f0d",
   "metadata": {
    "papermill": {
     "duration": 0.057293,
     "end_time": "2021-07-27T18:45:59.013258",
     "exception": false,
     "start_time": "2021-07-27T18:45:58.955965",
     "status": "completed"
    },
    "tags": []
   },
   "source": [
    "## Part 3. Prediction and Part 4. Evaluation of the prediction quality\n",
    "* 3.1. For each of the fitted models, predict the purchase class for the training set.\n",
    "* 3.2. For each of the fitted models, predict the purchase class for the testing set.\n",
    "* 4.1. Produce the confusion matrix and the classification report for each of the predictions.\n",
    "* 4.2. Compare the results between the different models and also training versus testing sets.\n"
   ]
  },
  {
   "cell_type": "markdown",
   "id": "982b2dd5",
   "metadata": {
    "papermill": {
     "duration": 0.05805,
     "end_time": "2021-07-27T18:45:59.128353",
     "exception": false,
     "start_time": "2021-07-27T18:45:59.070303",
     "status": "completed"
    },
    "tags": []
   },
   "source": [
    "**Evaluation on Train Set**"
   ]
  },
  {
   "cell_type": "code",
   "execution_count": 27,
   "id": "bb58f414",
   "metadata": {
    "execution": {
     "iopub.execute_input": "2021-07-27T18:45:59.251104Z",
     "iopub.status.busy": "2021-07-27T18:45:59.250399Z",
     "iopub.status.idle": "2021-07-27T18:45:59.264818Z",
     "shell.execute_reply": "2021-07-27T18:45:59.264187Z",
     "shell.execute_reply.started": "2021-07-27T18:41:01.923225Z"
    },
    "papermill": {
     "duration": 0.078948,
     "end_time": "2021-07-27T18:45:59.264956",
     "exception": false,
     "start_time": "2021-07-27T18:45:59.186008",
     "status": "completed"
    },
    "tags": []
   },
   "outputs": [
    {
     "name": "stdout",
     "output_type": "stream",
     "text": [
      "Confusion Matrix: \n",
      "\n",
      " [[173  18]\n",
      " [ 33  82]]\n",
      "\n",
      " The accuracy with all 3 predictors are:  0.8333333333333334\n",
      "\n",
      "Classification report of the model with all 3 predictors: \n",
      "               precision    recall  f1-score   support\n",
      "\n",
      "         0.0       0.84      0.91      0.87       191\n",
      "         1.0       0.82      0.71      0.76       115\n",
      "\n",
      "    accuracy                           0.83       306\n",
      "   macro avg       0.83      0.81      0.82       306\n",
      "weighted avg       0.83      0.83      0.83       306\n",
      "\n"
     ]
    }
   ],
   "source": [
    "### 3.1 For each of the fitted models, predict the purchase class for the training set.\n",
    "y_hat = log_reg_3par.predict(X_train)\n",
    "Y_pred = list(map(round, y_hat))\n",
    "cm = confusion_matrix(Y_train, Y_pred)\n",
    "print('Confusion Matrix: \\n\\n', cm)\n",
    "print('\\n The accuracy with all 3 predictors are: ', accuracy_score(Y_train, Y_pred))\n",
    "print(f\"\\nClassification report of the model with all 3 predictors: \\n {classification_report(Y_train, Y_pred)}\")"
   ]
  },
  {
   "cell_type": "code",
   "execution_count": 28,
   "id": "19d4dfcf",
   "metadata": {
    "execution": {
     "iopub.execute_input": "2021-07-27T18:45:59.382207Z",
     "iopub.status.busy": "2021-07-27T18:45:59.381153Z",
     "iopub.status.idle": "2021-07-27T18:45:59.396415Z",
     "shell.execute_reply": "2021-07-27T18:45:59.396908Z",
     "shell.execute_reply.started": "2021-07-27T18:41:01.946319Z"
    },
    "papermill": {
     "duration": 0.07549,
     "end_time": "2021-07-27T18:45:59.397101",
     "exception": false,
     "start_time": "2021-07-27T18:45:59.321611",
     "status": "completed"
    },
    "tags": []
   },
   "outputs": [
    {
     "name": "stdout",
     "output_type": "stream",
     "text": [
      "Confusion Matrix: \n",
      " [[175  16]\n",
      " [ 35  80]]\n",
      "\n",
      " The accuracy of the model without sex:  0.8333333333333334\n",
      "\n",
      "Classification report of the model without sex: \n",
      "               precision    recall  f1-score   support\n",
      "\n",
      "         0.0       0.83      0.92      0.87       191\n",
      "         1.0       0.83      0.70      0.76       115\n",
      "\n",
      "    accuracy                           0.83       306\n",
      "   macro avg       0.83      0.81      0.82       306\n",
      "weighted avg       0.83      0.83      0.83       306\n",
      "\n"
     ]
    }
   ],
   "source": [
    "y_hat_dropsex = log_reg_dropsex.predict(X_train_dropsex)\n",
    "Y_pred_dropsex = list(map(round, y_hat_dropsex))\n",
    "cm_dropsex = confusion_matrix(Y_train, Y_pred_dropsex)\n",
    "print('Confusion Matrix: \\n', cm_dropsex)\n",
    "print('\\n The accuracy of the model without sex: ', accuracy_score(Y_train, Y_pred_dropsex))\n",
    "\n",
    "print(f\"\\nClassification report of the model without sex: \\n {classification_report(Y_train, Y_pred_dropsex)}\")"
   ]
  },
  {
   "cell_type": "code",
   "execution_count": 29,
   "id": "c3c57101",
   "metadata": {
    "execution": {
     "iopub.execute_input": "2021-07-27T18:45:59.515215Z",
     "iopub.status.busy": "2021-07-27T18:45:59.514518Z",
     "iopub.status.idle": "2021-07-27T18:45:59.528959Z",
     "shell.execute_reply": "2021-07-27T18:45:59.529915Z",
     "shell.execute_reply.started": "2021-07-27T18:41:01.969196Z"
    },
    "papermill": {
     "duration": 0.075654,
     "end_time": "2021-07-27T18:45:59.530164",
     "exception": false,
     "start_time": "2021-07-27T18:45:59.454510",
     "status": "completed"
    },
    "tags": []
   },
   "outputs": [
    {
     "name": "stdout",
     "output_type": "stream",
     "text": [
      "Confusion Matrix: \n",
      " [[182   9]\n",
      " [ 57  58]]\n",
      "\n",
      " The accuracy of the model without age:  0.7843137254901961\n",
      "\n",
      "Classification report of the model without age: \n",
      "               precision    recall  f1-score   support\n",
      "\n",
      "         0.0       0.76      0.95      0.85       191\n",
      "         1.0       0.87      0.50      0.64       115\n",
      "\n",
      "    accuracy                           0.78       306\n",
      "   macro avg       0.81      0.73      0.74       306\n",
      "weighted avg       0.80      0.78      0.77       306\n",
      "\n"
     ]
    }
   ],
   "source": [
    "y_hat_dropage = log_reg_dropage.predict(X_train_dropage)\n",
    "Y_pred_dropage = list(map(round, y_hat_dropage))\n",
    "cm_dropage = confusion_matrix(Y_train, Y_pred_dropage)\n",
    "print('Confusion Matrix: \\n', cm_dropage)\n",
    "print('\\n The accuracy of the model without age: ', accuracy_score(Y_train, Y_pred_dropage))\n",
    "print(f\"\\nClassification report of the model without age: \\n {classification_report(Y_train, Y_pred_dropage)}\")"
   ]
  },
  {
   "cell_type": "code",
   "execution_count": 30,
   "id": "ffc97735",
   "metadata": {
    "execution": {
     "iopub.execute_input": "2021-07-27T18:45:59.648925Z",
     "iopub.status.busy": "2021-07-27T18:45:59.648138Z",
     "iopub.status.idle": "2021-07-27T18:45:59.663449Z",
     "shell.execute_reply": "2021-07-27T18:45:59.664297Z",
     "shell.execute_reply.started": "2021-07-27T18:41:01.997947Z"
    },
    "papermill": {
     "duration": 0.076099,
     "end_time": "2021-07-27T18:45:59.664557",
     "exception": false,
     "start_time": "2021-07-27T18:45:59.588458",
     "status": "completed"
    },
    "tags": []
   },
   "outputs": [
    {
     "name": "stdout",
     "output_type": "stream",
     "text": [
      "Confusion Matrix: \n",
      " [[175  16]\n",
      " [ 38  77]]\n",
      "\n",
      " The accuracy of the model without income:  0.8235294117647058\n",
      "\n",
      "Classification report of the model without income: \n",
      "               precision    recall  f1-score   support\n",
      "\n",
      "         0.0       0.82      0.92      0.87       191\n",
      "         1.0       0.83      0.67      0.74       115\n",
      "\n",
      "    accuracy                           0.82       306\n",
      "   macro avg       0.82      0.79      0.80       306\n",
      "weighted avg       0.82      0.82      0.82       306\n",
      "\n"
     ]
    }
   ],
   "source": [
    "y_hat_dropincome = log_reg_dropincome.predict(X_train_dropincome)\n",
    "Y_pred_dropincome = list(map(round, y_hat_dropincome))\n",
    "cm_dropincome = confusion_matrix(Y_train, Y_pred_dropincome)\n",
    "print('Confusion Matrix: \\n', cm_dropincome)\n",
    "print('\\n The accuracy of the model without income: ', accuracy_score(Y_train, Y_pred_dropincome))\n",
    "print(f\"\\nClassification report of the model without income: \\n {classification_report(Y_train, Y_pred_dropincome)}\")"
   ]
  },
  {
   "cell_type": "code",
   "execution_count": 31,
   "id": "032512b4",
   "metadata": {
    "execution": {
     "iopub.execute_input": "2021-07-27T18:45:59.788716Z",
     "iopub.status.busy": "2021-07-27T18:45:59.788032Z",
     "iopub.status.idle": "2021-07-27T18:45:59.803678Z",
     "shell.execute_reply": "2021-07-27T18:45:59.804724Z",
     "shell.execute_reply.started": "2021-07-27T18:41:02.022090Z"
    },
    "papermill": {
     "duration": 0.081375,
     "end_time": "2021-07-27T18:45:59.804967",
     "exception": false,
     "start_time": "2021-07-27T18:45:59.723592",
     "status": "completed"
    },
    "tags": []
   },
   "outputs": [
    {
     "name": "stdout",
     "output_type": "stream",
     "text": [
      "Confusion Matrix: \n",
      " [[175  16]\n",
      " [ 38  77]]\n",
      "\n",
      " The accuracy of the model with keeping age only:  0.8235294117647058\n",
      "\n",
      "Classification report of the model with keeping age only: \n",
      "               precision    recall  f1-score   support\n",
      "\n",
      "         0.0       0.82      0.92      0.87       191\n",
      "         1.0       0.83      0.67      0.74       115\n",
      "\n",
      "    accuracy                           0.82       306\n",
      "   macro avg       0.82      0.79      0.80       306\n",
      "weighted avg       0.82      0.82      0.82       306\n",
      "\n"
     ]
    }
   ],
   "source": [
    "y_hat_age = log_reg_age.predict(X_train_age)\n",
    "Y_pred_age = list(map(round, y_hat_age))\n",
    "cm_age = confusion_matrix(Y_train, Y_pred_age)\n",
    "print('Confusion Matrix: \\n', cm_age)\n",
    "print('\\n The accuracy of the model with keeping age only: ', accuracy_score(Y_train, Y_pred_age))\n",
    "print(f\"\\nClassification report of the model with keeping age only: \\n {classification_report(Y_train, Y_pred_age)}\")"
   ]
  },
  {
   "cell_type": "code",
   "execution_count": 32,
   "id": "fe3b4138",
   "metadata": {
    "execution": {
     "iopub.execute_input": "2021-07-27T18:45:59.926074Z",
     "iopub.status.busy": "2021-07-27T18:45:59.925343Z",
     "iopub.status.idle": "2021-07-27T18:45:59.941112Z",
     "shell.execute_reply": "2021-07-27T18:45:59.940461Z",
     "shell.execute_reply.started": "2021-07-27T18:41:02.042226Z"
    },
    "papermill": {
     "duration": 0.077524,
     "end_time": "2021-07-27T18:45:59.941282",
     "exception": false,
     "start_time": "2021-07-27T18:45:59.863758",
     "status": "completed"
    },
    "tags": []
   },
   "outputs": [
    {
     "name": "stdout",
     "output_type": "stream",
     "text": [
      "Confusion Matrix: \n",
      " [[191   0]\n",
      " [115   0]]\n",
      "\n",
      " The accuracy of the model with keeping sex only:  0.6241830065359477\n",
      "\n",
      "Classification report of the model with keeping sex only: \n",
      "               precision    recall  f1-score   support\n",
      "\n",
      "         0.0       0.62      1.00      0.77       191\n",
      "         1.0       0.00      0.00      0.00       115\n",
      "\n",
      "    accuracy                           0.62       306\n",
      "   macro avg       0.31      0.50      0.38       306\n",
      "weighted avg       0.39      0.62      0.48       306\n",
      "\n"
     ]
    }
   ],
   "source": [
    "y_hat_sex = log_reg_sex.predict(X_train_sex)\n",
    "Y_pred_sex = list(map(round, y_hat_sex))\n",
    "cm_sex = confusion_matrix(Y_train, Y_pred_sex)\n",
    "print('Confusion Matrix: \\n', cm_sex)\n",
    "print('\\n The accuracy of the model with keeping sex only: ', accuracy_score(Y_train, Y_pred_sex))\n",
    "print(f\"\\nClassification report of the model with keeping sex only: \\n {classification_report(Y_train, Y_pred_sex)}\")"
   ]
  },
  {
   "cell_type": "code",
   "execution_count": 33,
   "id": "229efb71",
   "metadata": {
    "execution": {
     "iopub.execute_input": "2021-07-27T18:46:00.070533Z",
     "iopub.status.busy": "2021-07-27T18:46:00.069377Z",
     "iopub.status.idle": "2021-07-27T18:46:00.084057Z",
     "shell.execute_reply": "2021-07-27T18:46:00.084601Z",
     "shell.execute_reply.started": "2021-07-27T18:41:02.062416Z"
    },
    "papermill": {
     "duration": 0.085176,
     "end_time": "2021-07-27T18:46:00.084807",
     "exception": false,
     "start_time": "2021-07-27T18:45:59.999631",
     "status": "completed"
    },
    "tags": []
   },
   "outputs": [
    {
     "name": "stdout",
     "output_type": "stream",
     "text": [
      "Confusion Matrix: \n",
      " [[182   9]\n",
      " [ 59  56]]\n",
      "\n",
      " The accuracy of the model with keeping income only:  0.7777777777777778\n",
      "\n",
      "Classification report of the model with keeping income only: \n",
      "               precision    recall  f1-score   support\n",
      "\n",
      "         0.0       0.76      0.95      0.84       191\n",
      "         1.0       0.86      0.49      0.62       115\n",
      "\n",
      "    accuracy                           0.78       306\n",
      "   macro avg       0.81      0.72      0.73       306\n",
      "weighted avg       0.80      0.78      0.76       306\n",
      "\n"
     ]
    }
   ],
   "source": [
    "y_hat_income = log_reg_income.predict(X_train_income)\n",
    "Y_pred_income = list(map(round, y_hat_income))\n",
    "cm_income = confusion_matrix(Y_train, Y_pred_income)\n",
    "print('Confusion Matrix: \\n', cm_income)\n",
    "print('\\n The accuracy of the model with keeping income only: ', accuracy_score(Y_train, Y_pred_income))\n",
    "print(f\"\\nClassification report of the model with keeping income only: \\n {classification_report(Y_train, Y_pred_income)}\")"
   ]
  },
  {
   "cell_type": "markdown",
   "id": "b9051da9",
   "metadata": {
    "papermill": {
     "duration": 0.058788,
     "end_time": "2021-07-27T18:46:00.204391",
     "exception": false,
     "start_time": "2021-07-27T18:46:00.145603",
     "status": "completed"
    },
    "tags": []
   },
   "source": [
    "**Evaluation in Test Set**"
   ]
  },
  {
   "cell_type": "code",
   "execution_count": 34,
   "id": "45ffa3f8",
   "metadata": {
    "execution": {
     "iopub.execute_input": "2021-07-27T18:46:00.335016Z",
     "iopub.status.busy": "2021-07-27T18:46:00.334070Z",
     "iopub.status.idle": "2021-07-27T18:46:00.346877Z",
     "shell.execute_reply": "2021-07-27T18:46:00.346137Z",
     "shell.execute_reply.started": "2021-07-27T18:41:02.080953Z"
    },
    "papermill": {
     "duration": 0.083423,
     "end_time": "2021-07-27T18:46:00.347032",
     "exception": false,
     "start_time": "2021-07-27T18:46:00.263609",
     "status": "completed"
    },
    "tags": []
   },
   "outputs": [
    {
     "name": "stdout",
     "output_type": "stream",
     "text": [
      "Confusion Matrix: \n",
      " [[77  3]\n",
      " [11 41]]\n",
      "\n",
      " The accuracy of the model in test set with all 3 predictors:  0.8939393939393939\n",
      "\n",
      "Classification report of the model in test set with all 3 predictors: \n",
      "               precision    recall  f1-score   support\n",
      "\n",
      "         0.0       0.88      0.96      0.92        80\n",
      "         1.0       0.93      0.79      0.85        52\n",
      "\n",
      "    accuracy                           0.89       132\n",
      "   macro avg       0.90      0.88      0.89       132\n",
      "weighted avg       0.90      0.89      0.89       132\n",
      "\n"
     ]
    }
   ],
   "source": [
    "### 3.2  For each of the fitted models, predict the purchase class for the testing set.\n",
    "X_test = sm.add_constant(X_test)\n",
    "y_hat_test = log_reg_3par.predict(X_test)\n",
    "Y_pred_test = list(map(round, y_hat_test))\n",
    "cm_test = confusion_matrix(Y_test, Y_pred_test)\n",
    "print('Confusion Matrix: \\n', cm_test)\n",
    "print('\\n The accuracy of the model in test set with all 3 predictors: ', accuracy_score(Y_test, Y_pred_test))\n",
    "print(f\"\\nClassification report of the model in test set with all 3 predictors: \\n {classification_report(Y_test, Y_pred_test)}\")"
   ]
  },
  {
   "cell_type": "code",
   "execution_count": 35,
   "id": "2457f864",
   "metadata": {
    "execution": {
     "iopub.execute_input": "2021-07-27T18:46:00.479162Z",
     "iopub.status.busy": "2021-07-27T18:46:00.477384Z",
     "iopub.status.idle": "2021-07-27T18:46:00.490605Z",
     "shell.execute_reply": "2021-07-27T18:46:00.490008Z",
     "shell.execute_reply.started": "2021-07-27T18:41:02.103828Z"
    },
    "papermill": {
     "duration": 0.083903,
     "end_time": "2021-07-27T18:46:00.490836",
     "exception": false,
     "start_time": "2021-07-27T18:46:00.406933",
     "status": "completed"
    },
    "tags": []
   },
   "outputs": [
    {
     "name": "stdout",
     "output_type": "stream",
     "text": [
      "Confusion Matrix: \n",
      " [[75  5]\n",
      " [11 41]]\n",
      "\n",
      " The accuracy of the model in test set with dropping sex:  0.8787878787878788\n",
      "\n",
      "Classification report of the model in test set with dropping sex: \n",
      "               precision    recall  f1-score   support\n",
      "\n",
      "         0.0       0.87      0.94      0.90        80\n",
      "         1.0       0.89      0.79      0.84        52\n",
      "\n",
      "    accuracy                           0.88       132\n",
      "   macro avg       0.88      0.86      0.87       132\n",
      "weighted avg       0.88      0.88      0.88       132\n",
      "\n"
     ]
    }
   ],
   "source": [
    "X_test_dropsex = sm.add_constant(X_test[['age', 'income']])\n",
    "y_hat_test_dropsex = log_reg_dropsex.predict(X_test_dropsex)\n",
    "Y_pred_test_dropsex = list(map(round, y_hat_test_dropsex))\n",
    "cm_test_dropsex = confusion_matrix(Y_test, Y_pred_test_dropsex)\n",
    "print('Confusion Matrix: \\n', cm_test_dropsex)\n",
    "print('\\n The accuracy of the model in test set with dropping sex: ', accuracy_score(Y_test, Y_pred_test_dropsex))\n",
    "print(f\"\\nClassification report of the model in test set with dropping sex: \\n {classification_report(Y_test, Y_pred_test_dropsex)}\")"
   ]
  },
  {
   "cell_type": "code",
   "execution_count": 36,
   "id": "c20982b7",
   "metadata": {
    "execution": {
     "iopub.execute_input": "2021-07-27T18:46:00.620559Z",
     "iopub.status.busy": "2021-07-27T18:46:00.619534Z",
     "iopub.status.idle": "2021-07-27T18:46:00.631104Z",
     "shell.execute_reply": "2021-07-27T18:46:00.630470Z",
     "shell.execute_reply.started": "2021-07-27T18:41:02.126562Z"
    },
    "papermill": {
     "duration": 0.080716,
     "end_time": "2021-07-27T18:46:00.631261",
     "exception": false,
     "start_time": "2021-07-27T18:46:00.550545",
     "status": "completed"
    },
    "tags": []
   },
   "outputs": [
    {
     "name": "stdout",
     "output_type": "stream",
     "text": [
      "Confusion Matrix: \n",
      " [[77  3]\n",
      " [30 22]]\n",
      "\n",
      " The accuracy of the model in test set with dropping age:  0.75\n",
      "\n",
      "Classification report of the model in test set with dropping age: \n",
      "               precision    recall  f1-score   support\n",
      "\n",
      "         0.0       0.72      0.96      0.82        80\n",
      "         1.0       0.88      0.42      0.57        52\n",
      "\n",
      "    accuracy                           0.75       132\n",
      "   macro avg       0.80      0.69      0.70       132\n",
      "weighted avg       0.78      0.75      0.72       132\n",
      "\n"
     ]
    }
   ],
   "source": [
    "X_test_dropage = sm.add_constant(X_test[['sex', 'income']])\n",
    "y_hat_test_dropage = log_reg_dropage.predict(X_test_dropage)\n",
    "Y_pred_test_dropage = list(map(round, y_hat_test_dropage))\n",
    "cm_test_dropage = confusion_matrix(Y_test, Y_pred_test_dropage)\n",
    "print('Confusion Matrix: \\n', cm_test_dropage)\n",
    "print('\\n The accuracy of the model in test set with dropping age: ', accuracy_score(Y_test, Y_pred_test_dropage))\n",
    "print(f\"\\nClassification report of the model in test set with dropping age: \\n {classification_report(Y_test, Y_pred_test_dropage)}\")"
   ]
  },
  {
   "cell_type": "code",
   "execution_count": 37,
   "id": "c09ce552",
   "metadata": {
    "execution": {
     "iopub.execute_input": "2021-07-27T18:46:00.761535Z",
     "iopub.status.busy": "2021-07-27T18:46:00.760828Z",
     "iopub.status.idle": "2021-07-27T18:46:00.770532Z",
     "shell.execute_reply": "2021-07-27T18:46:00.770988Z",
     "shell.execute_reply.started": "2021-07-27T18:41:02.148534Z"
    },
    "papermill": {
     "duration": 0.08076,
     "end_time": "2021-07-27T18:46:00.771186",
     "exception": false,
     "start_time": "2021-07-27T18:46:00.690426",
     "status": "completed"
    },
    "tags": []
   },
   "outputs": [
    {
     "name": "stdout",
     "output_type": "stream",
     "text": [
      "Confusion Matrix: \n",
      " [[77  3]\n",
      " [14 38]]\n",
      "\n",
      "The accuracy of the model in test set with dropping income:  0.8712121212121212\n",
      "\n",
      "Classification report of the model in test set with dropping income: \n",
      "               precision    recall  f1-score   support\n",
      "\n",
      "         0.0       0.85      0.96      0.90        80\n",
      "         1.0       0.93      0.73      0.82        52\n",
      "\n",
      "    accuracy                           0.87       132\n",
      "   macro avg       0.89      0.85      0.86       132\n",
      "weighted avg       0.88      0.87      0.87       132\n",
      "\n"
     ]
    }
   ],
   "source": [
    "X_test_dropincome = sm.add_constant(X_test[['sex', 'age']])\n",
    "y_hat_test_dropincome = log_reg_dropincome.predict(X_test_dropincome)\n",
    "Y_pred_test_dropincome = list(map(round, y_hat_test_dropincome))\n",
    "cm_test_dropincome = confusion_matrix(Y_test, Y_pred_test_dropincome)\n",
    "print('Confusion Matrix: \\n', cm_test_dropincome)\n",
    "print('\\nThe accuracy of the model in test set with dropping income: ', accuracy_score(Y_test, Y_pred_test_dropincome))\n",
    "print(f\"\\nClassification report of the model in test set with dropping income: \\n {classification_report(Y_test, Y_pred_test_dropincome)}\")"
   ]
  },
  {
   "cell_type": "code",
   "execution_count": 38,
   "id": "a07aea76",
   "metadata": {
    "execution": {
     "iopub.execute_input": "2021-07-27T18:46:00.894598Z",
     "iopub.status.busy": "2021-07-27T18:46:00.893923Z",
     "iopub.status.idle": "2021-07-27T18:46:00.910884Z",
     "shell.execute_reply": "2021-07-27T18:46:00.911625Z",
     "shell.execute_reply.started": "2021-07-27T18:41:02.170102Z"
    },
    "papermill": {
     "duration": 0.080351,
     "end_time": "2021-07-27T18:46:00.911857",
     "exception": false,
     "start_time": "2021-07-27T18:46:00.831506",
     "status": "completed"
    },
    "tags": []
   },
   "outputs": [
    {
     "name": "stdout",
     "output_type": "stream",
     "text": [
      "Confusion Matrix: \n",
      " [[77  3]\n",
      " [14 38]]\n",
      "\n",
      " The accuracy of the model in test set with keeping age only:  0.8712121212121212\n",
      "\n",
      "Classification report of the model in test set with keeping age only: \n",
      "               precision    recall  f1-score   support\n",
      "\n",
      "         0.0       0.85      0.96      0.90        80\n",
      "         1.0       0.93      0.73      0.82        52\n",
      "\n",
      "    accuracy                           0.87       132\n",
      "   macro avg       0.89      0.85      0.86       132\n",
      "weighted avg       0.88      0.87      0.87       132\n",
      "\n"
     ]
    }
   ],
   "source": [
    "X_test_age = sm.add_constant(X_test[['age']])\n",
    "y_hat_test_age = log_reg_age.predict(X_test_age)\n",
    "Y_pred_test_age = list(map(round, y_hat_test_age))\n",
    "cm_test_age = confusion_matrix(Y_test, Y_pred_test_age)\n",
    "print('Confusion Matrix: \\n', cm_test_age)\n",
    "print('\\n The accuracy of the model in test set with keeping age only: ', accuracy_score(Y_test, Y_pred_test_age))\n",
    "print(f\"\\nClassification report of the model in test set with keeping age only: \\n {classification_report(Y_test, Y_pred_test_age)}\")"
   ]
  },
  {
   "cell_type": "code",
   "execution_count": 39,
   "id": "9c423fab",
   "metadata": {
    "execution": {
     "iopub.execute_input": "2021-07-27T18:46:01.038498Z",
     "iopub.status.busy": "2021-07-27T18:46:01.037636Z",
     "iopub.status.idle": "2021-07-27T18:46:01.056013Z",
     "shell.execute_reply": "2021-07-27T18:46:01.056569Z",
     "shell.execute_reply.started": "2021-07-27T18:41:02.195357Z"
    },
    "papermill": {
     "duration": 0.082769,
     "end_time": "2021-07-27T18:46:01.056750",
     "exception": false,
     "start_time": "2021-07-27T18:46:00.973981",
     "status": "completed"
    },
    "tags": []
   },
   "outputs": [
    {
     "name": "stdout",
     "output_type": "stream",
     "text": [
      "Confusion Matrix: \n",
      " [[80  0]\n",
      " [52  0]]\n",
      "\n",
      " The accuracy of the model in test set with keeping sex only:  0.6060606060606061\n",
      "\n",
      "Classification report of the model in test set with keeping sex only: \n",
      "               precision    recall  f1-score   support\n",
      "\n",
      "         0.0       0.61      1.00      0.75        80\n",
      "         1.0       0.00      0.00      0.00        52\n",
      "\n",
      "    accuracy                           0.61       132\n",
      "   macro avg       0.30      0.50      0.38       132\n",
      "weighted avg       0.37      0.61      0.46       132\n",
      "\n"
     ]
    }
   ],
   "source": [
    "X_test_sex = sm.add_constant(X_test[['sex']])\n",
    "y_hat_test_sex = log_reg_sex.predict(X_test_sex)\n",
    "Y_pred_test_sex = list(map(round, y_hat_test_sex))\n",
    "cm_test_sex = confusion_matrix(Y_test, Y_pred_test_sex)\n",
    "print('Confusion Matrix: \\n', cm_test_sex)\n",
    "print('\\n The accuracy of the model in test set with keeping sex only: ', accuracy_score(Y_test, Y_pred_test_sex))\n",
    "print(f\"\\nClassification report of the model in test set with keeping sex only: \\n {classification_report(Y_test, Y_pred_test_sex)}\")"
   ]
  },
  {
   "cell_type": "code",
   "execution_count": 40,
   "id": "910fb4dd",
   "metadata": {
    "execution": {
     "iopub.execute_input": "2021-07-27T18:46:01.189565Z",
     "iopub.status.busy": "2021-07-27T18:46:01.188459Z",
     "iopub.status.idle": "2021-07-27T18:46:01.202677Z",
     "shell.execute_reply": "2021-07-27T18:46:01.201500Z",
     "shell.execute_reply.started": "2021-07-27T18:41:02.214646Z"
    },
    "papermill": {
     "duration": 0.084662,
     "end_time": "2021-07-27T18:46:01.202930",
     "exception": false,
     "start_time": "2021-07-27T18:46:01.118268",
     "status": "completed"
    },
    "tags": []
   },
   "outputs": [
    {
     "name": "stdout",
     "output_type": "stream",
     "text": [
      "Confusion Matrix: \n",
      " [[77  3]\n",
      " [31 21]]\n",
      "\n",
      " The accuracy of the model in test set with keeping income only:  0.7424242424242424\n",
      "\n",
      "Classification report of the model in test set with keeping income only: \n",
      "               precision    recall  f1-score   support\n",
      "\n",
      "         0.0       0.71      0.96      0.82        80\n",
      "         1.0       0.88      0.40      0.55        52\n",
      "\n",
      "    accuracy                           0.74       132\n",
      "   macro avg       0.79      0.68      0.69       132\n",
      "weighted avg       0.78      0.74      0.71       132\n",
      "\n"
     ]
    }
   ],
   "source": [
    "X_test_income = sm.add_constant(X_test[['income']])\n",
    "y_hat_test_income = log_reg_income.predict(X_test_income)\n",
    "Y_pred_test_income = list(map(round, y_hat_test_income))\n",
    "cm_test_income = confusion_matrix(Y_test, Y_pred_test_income)\n",
    "print('Confusion Matrix: \\n', cm_test_income)\n",
    "print('\\n The accuracy of the model in test set with keeping income only: ', accuracy_score(Y_test, Y_pred_test_income))\n",
    "print(f\"\\nClassification report of the model in test set with keeping income only: \\n {classification_report(Y_test, Y_pred_test_income)}\")"
   ]
  },
  {
   "cell_type": "code",
   "execution_count": null,
   "id": "e29d3627",
   "metadata": {
    "papermill": {
     "duration": 0.061267,
     "end_time": "2021-07-27T18:46:01.325460",
     "exception": false,
     "start_time": "2021-07-27T18:46:01.264193",
     "status": "completed"
    },
    "tags": []
   },
   "outputs": [],
   "source": []
  }
 ],
 "metadata": {
  "kernelspec": {
   "display_name": "Python 3",
   "language": "python",
   "name": "python3"
  },
  "language_info": {
   "codemirror_mode": {
    "name": "ipython",
    "version": 3
   },
   "file_extension": ".py",
   "mimetype": "text/x-python",
   "name": "python",
   "nbconvert_exporter": "python",
   "pygments_lexer": "ipython3",
   "version": "3.7.10"
  },
  "papermill": {
   "default_parameters": {},
   "duration": 19.847955,
   "end_time": "2021-07-27T18:46:02.197526",
   "environment_variables": {},
   "exception": null,
   "input_path": "__notebook__.ipynb",
   "output_path": "__notebook__.ipynb",
   "parameters": {},
   "start_time": "2021-07-27T18:45:42.349571",
   "version": "2.3.3"
  }
 },
 "nbformat": 4,
 "nbformat_minor": 5
}
